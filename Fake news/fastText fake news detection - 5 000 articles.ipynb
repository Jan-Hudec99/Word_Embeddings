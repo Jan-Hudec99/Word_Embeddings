{
 "cells": [
  {
   "cell_type": "code",
   "execution_count": 1,
   "id": "c4af0a2f",
   "metadata": {},
   "outputs": [],
   "source": [
    "import pandas as pd\n",
    "import numpy as np\n",
    "import warnings\n",
    "from sklearn.ensemble import RandomForestClassifier\n",
    "from sklearn.model_selection import KFold, cross_val_score\n",
    "import pickle\n",
    "\n",
    "warnings.simplefilter(action = 'ignore', category = FutureWarning)\n",
    "k_folds = KFold(n_splits = 10)"
   ]
  },
  {
   "cell_type": "code",
   "execution_count": 2,
   "id": "39e0bf9f",
   "metadata": {},
   "outputs": [],
   "source": [
    "dataset = pd.read_csv(\"News_dataset_preprocessed.csv\")\n",
    "dataset.drop(dataset.tail(39898).index, inplace = True)\n",
    "articles = [w for w in dataset[\"text\"]]"
   ]
  },
  {
   "cell_type": "code",
   "execution_count": 3,
   "id": "f1f65268",
   "metadata": {},
   "outputs": [],
   "source": [
    "pickle_in = open(\"fasttext_vectors.pickle\", \"rb\")\n",
    "word_vectors_fastText = pickle.load(pickle_in)\n",
    "del word_vectors_fastText[-39898:]"
   ]
  },
  {
   "cell_type": "code",
   "execution_count": 4,
   "id": "38ed427e",
   "metadata": {},
   "outputs": [],
   "source": [
    "def getArticleVector(article):\n",
    "    return np.mean([word for word in article], axis = 0)"
   ]
  },
  {
   "cell_type": "code",
   "execution_count": 5,
   "id": "7268a062",
   "metadata": {},
   "outputs": [],
   "source": [
    "x = []\n",
    "for i in range(len(word_vectors_fastText)):\n",
    "    x.append(getArticleVector(word_vectors_fastText[i]))"
   ]
  },
  {
   "cell_type": "code",
   "execution_count": 6,
   "id": "26a17390",
   "metadata": {},
   "outputs": [],
   "source": [
    "y = dataset[\"true\"]"
   ]
  },
  {
   "cell_type": "code",
   "execution_count": 7,
   "id": "584b68e3",
   "metadata": {},
   "outputs": [],
   "source": [
    "rfc = RandomForestClassifier(n_estimators = 100)"
   ]
  },
  {
   "cell_type": "code",
   "execution_count": 8,
   "id": "dd5c2f3f",
   "metadata": {},
   "outputs": [
    {
     "name": "stdout",
     "output_type": "stream",
     "text": [
      "CV accuracy scores:  [0.944 0.94  0.952 0.938 0.954 0.954 0.948 0.958 0.94  0.95 ]\n",
      "Average CV accuracy score:  0.9478\n"
     ]
    }
   ],
   "source": [
    "# 10-fold cross-validation - accuracy\n",
    "scores = cross_val_score(rfc, x, y, cv = k_folds, scoring = 'accuracy')\n",
    "print(\"CV accuracy scores: \", scores)\n",
    "print(\"Average CV accuracy score: \", scores.mean())"
   ]
  },
  {
   "cell_type": "code",
   "execution_count": 9,
   "id": "286460d0",
   "metadata": {},
   "outputs": [
    {
     "name": "stdout",
     "output_type": "stream",
     "text": [
      "CV precision scores:  [0.94440374 0.93798607 0.95256803 0.94001857 0.95201973 0.95401911\n",
      " 0.9500104  0.936      0.948      0.95210658]\n",
      "Average CV precision score:  0.9467132241720696\n"
     ]
    }
   ],
   "source": [
    "# 10-fold cross-validation - precision\n",
    "scores = cross_val_score(rfc, x, y, cv = k_folds, scoring = 'precision_weighted')\n",
    "print(\"CV precision scores: \", scores)\n",
    "print(\"Average CV precision score: \", scores.mean())"
   ]
  },
  {
   "cell_type": "code",
   "execution_count": 10,
   "id": "84b0781b",
   "metadata": {},
   "outputs": [
    {
     "name": "stdout",
     "output_type": "stream",
     "text": [
      "CV recall scores:  [0.952 0.93  0.946 0.93  0.958 0.95  0.946 0.952 0.948 0.948]\n",
      "Average CV recall score:  0.9460000000000001\n"
     ]
    }
   ],
   "source": [
    "# 10-fold cross-validation - recall\n",
    "scores = cross_val_score(rfc, x, y, cv = k_folds, scoring = 'recall_weighted')\n",
    "print(\"CV recall scores: \", scores)\n",
    "print(\"Average CV recall score: \", scores.mean())"
   ]
  },
  {
   "cell_type": "code",
   "execution_count": 11,
   "id": "9a56ddcd",
   "metadata": {},
   "outputs": [
    {
     "name": "stdout",
     "output_type": "stream",
     "text": [
      "CV f1 scores:  [0.9480772  0.93801024 0.95403488 0.952      0.95398434 0.9560106\n",
      " 0.94600151 0.95199693 0.944      0.9499986 ]\n",
      "Average CV f1 score:  0.9494114291812551\n"
     ]
    }
   ],
   "source": [
    "# 10-fold cross-validation - f1-score\n",
    "scores = cross_val_score(rfc, x, y, cv = k_folds, scoring = 'f1_weighted')\n",
    "print(\"CV f1 scores: \", scores)\n",
    "print(\"Average CV f1 score: \", scores.mean())"
   ]
  }
 ],
 "metadata": {
  "kernelspec": {
   "display_name": "Python 3 (ipykernel)",
   "language": "python",
   "name": "python3"
  },
  "language_info": {
   "codemirror_mode": {
    "name": "ipython",
    "version": 3
   },
   "file_extension": ".py",
   "mimetype": "text/x-python",
   "name": "python",
   "nbconvert_exporter": "python",
   "pygments_lexer": "ipython3",
   "version": "3.9.16"
  }
 },
 "nbformat": 4,
 "nbformat_minor": 5
}

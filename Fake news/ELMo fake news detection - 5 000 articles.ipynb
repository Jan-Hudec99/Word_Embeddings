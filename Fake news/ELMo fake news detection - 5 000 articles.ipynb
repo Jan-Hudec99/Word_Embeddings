{
 "cells": [
  {
   "cell_type": "code",
   "execution_count": 1,
   "id": "9ca5c500",
   "metadata": {},
   "outputs": [],
   "source": [
    "import pandas as pd\n",
    "import numpy as np\n",
    "import warnings\n",
    "from sklearn.ensemble import RandomForestClassifier\n",
    "from sklearn.model_selection import KFold, cross_val_score\n",
    "import pickle\n",
    "\n",
    "warnings.simplefilter(action = 'ignore', category = FutureWarning)\n",
    "k_folds = KFold(n_splits = 10)"
   ]
  },
  {
   "cell_type": "code",
   "execution_count": 2,
   "id": "7a5bf610",
   "metadata": {},
   "outputs": [],
   "source": [
    "dataset = pd.read_csv(\"News_dataset_preprocessed.csv\")\n",
    "dataset.drop(dataset.tail(39898).index, inplace = True)\n",
    "articles = [w for w in dataset[\"text\"]]"
   ]
  },
  {
   "cell_type": "code",
   "execution_count": 3,
   "id": "1deed897",
   "metadata": {},
   "outputs": [],
   "source": [
    "pickle_in = open(\"elmo_vectors.pickle\", \"rb\")\n",
    "word_vectors = pickle.load(pickle_in)"
   ]
  },
  {
   "cell_type": "code",
   "execution_count": 4,
   "id": "8d6b1e79",
   "metadata": {},
   "outputs": [],
   "source": [
    "def getArticleVector(article):\n",
    "    return np.mean([word for word in article], axis = 0)"
   ]
  },
  {
   "cell_type": "code",
   "execution_count": 5,
   "id": "0dbeb919",
   "metadata": {},
   "outputs": [],
   "source": [
    "x = []\n",
    "for i in range(len(word_vectors)):\n",
    "    x.append(getArticleVector(word_vectors[i]))"
   ]
  },
  {
   "cell_type": "code",
   "execution_count": 6,
   "id": "a7b07ada",
   "metadata": {},
   "outputs": [],
   "source": [
    "y = dataset[\"true\"]"
   ]
  },
  {
   "cell_type": "code",
   "execution_count": 7,
   "id": "53b2c6e9",
   "metadata": {},
   "outputs": [],
   "source": [
    "rfc = RandomForestClassifier(n_estimators = 100)"
   ]
  },
  {
   "cell_type": "code",
   "execution_count": 8,
   "id": "44ae3c55",
   "metadata": {},
   "outputs": [
    {
     "name": "stdout",
     "output_type": "stream",
     "text": [
      "CV accuracy scores:  [0.912 0.922 0.914 0.9   0.928 0.93  0.916 0.9   0.912 0.92 ]\n",
      "Average CV accuracy score:  0.9154000000000002\n"
     ]
    }
   ],
   "source": [
    "# 10-fold cross-validation - accuracy\n",
    "scores = cross_val_score(rfc, x, y, cv = k_folds, scoring = 'accuracy')\n",
    "print(\"CV accuracy scores: \", scores)\n",
    "print(\"Average CV accuracy score: \", scores.mean())"
   ]
  },
  {
   "cell_type": "code",
   "execution_count": 9,
   "id": "55028534",
   "metadata": {},
   "outputs": [
    {
     "name": "stdout",
     "output_type": "stream",
     "text": [
      "CV precision scores:  [0.9143541  0.92094262 0.92460033 0.91619968 0.92661612 0.93845509\n",
      " 0.91118506 0.91000656 0.89815318 0.91835535]\n",
      "Average CV precision score:  0.9178868093938606\n"
     ]
    }
   ],
   "source": [
    "# 10-fold cross-validation - precision\n",
    "scores = cross_val_score(rfc, x, y, cv = k_folds, scoring = 'precision_weighted')\n",
    "print(\"CV precision scores: \", scores)\n",
    "print(\"Average CV precision score: \", scores.mean())"
   ]
  },
  {
   "cell_type": "code",
   "execution_count": 10,
   "id": "3a2456d1",
   "metadata": {},
   "outputs": [
    {
     "name": "stdout",
     "output_type": "stream",
     "text": [
      "CV recall scores:  [0.908 0.922 0.93  0.914 0.928 0.94  0.906 0.904 0.91  0.916]\n",
      "Average CV recall score:  0.9178000000000001\n"
     ]
    }
   ],
   "source": [
    "# 10-fold cross-validation - recall\n",
    "scores = cross_val_score(rfc, x, y, cv = k_folds, scoring = 'recall_weighted')\n",
    "print(\"CV recall scores: \", scores)\n",
    "print(\"Average CV recall score: \", scores.mean())"
   ]
  },
  {
   "cell_type": "code",
   "execution_count": 11,
   "id": "efa8443d",
   "metadata": {},
   "outputs": [
    {
     "name": "stdout",
     "output_type": "stream",
     "text": [
      "CV f1 scores:  [0.89618447 0.9161214  0.92005393 0.91398657 0.93200544 0.94200722\n",
      " 0.91600403 0.91799967 0.90385323 0.91800164]\n",
      "Average CV f1 score:  0.9176217605779051\n"
     ]
    }
   ],
   "source": [
    "# 10-fold cross-validation - f1-score\n",
    "scores = cross_val_score(rfc, x, y, cv = k_folds, scoring = 'f1_weighted')\n",
    "print(\"CV f1 scores: \", scores)\n",
    "print(\"Average CV f1 score: \", scores.mean())"
   ]
  }
 ],
 "metadata": {
  "kernelspec": {
   "display_name": "Python 3 (ipykernel)",
   "language": "python",
   "name": "python3"
  },
  "language_info": {
   "codemirror_mode": {
    "name": "ipython",
    "version": 3
   },
   "file_extension": ".py",
   "mimetype": "text/x-python",
   "name": "python",
   "nbconvert_exporter": "python",
   "pygments_lexer": "ipython3",
   "version": "3.9.16"
  }
 },
 "nbformat": 4,
 "nbformat_minor": 5
}

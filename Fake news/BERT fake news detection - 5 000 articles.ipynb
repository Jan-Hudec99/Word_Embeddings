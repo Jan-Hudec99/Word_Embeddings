{
 "cells": [
  {
   "cell_type": "code",
   "execution_count": 1,
   "id": "9ca5c500",
   "metadata": {},
   "outputs": [],
   "source": [
    "import pandas as pd\n",
    "import numpy as np\n",
    "import warnings\n",
    "from sklearn.ensemble import RandomForestClassifier\n",
    "from sklearn.model_selection import KFold, cross_val_score\n",
    "import pickle\n",
    "\n",
    "warnings.simplefilter(action = 'ignore', category = FutureWarning)\n",
    "k_folds = KFold(n_splits = 10)"
   ]
  },
  {
   "cell_type": "code",
   "execution_count": 2,
   "id": "7a5bf610",
   "metadata": {},
   "outputs": [],
   "source": [
    "dataset = pd.read_csv(\"News_dataset_preprocessed.csv\")\n",
    "dataset.drop(dataset.tail(39898).index, inplace = True)\n",
    "articles = [w for w in dataset[\"text\"]]"
   ]
  },
  {
   "cell_type": "code",
   "execution_count": 3,
   "id": "1deed897",
   "metadata": {},
   "outputs": [],
   "source": [
    "pickle_in = open(\"bert_vectors1.pickle\", \"rb\")\n",
    "word_vectors1 = pickle.load(pickle_in)"
   ]
  },
  {
   "cell_type": "code",
   "execution_count": 4,
   "id": "5603efd2",
   "metadata": {},
   "outputs": [],
   "source": [
    "pickle_in = open(\"bert_vectors2.pickle\", \"rb\")\n",
    "word_vectors2 = pickle.load(pickle_in)"
   ]
  },
  {
   "cell_type": "code",
   "execution_count": 5,
   "id": "d36314d2",
   "metadata": {},
   "outputs": [],
   "source": [
    "pickle_in = open(\"bert_vectors3.pickle\", \"rb\")\n",
    "word_vectors3 = pickle.load(pickle_in)"
   ]
  },
  {
   "cell_type": "code",
   "execution_count": 6,
   "id": "29fdc390",
   "metadata": {},
   "outputs": [],
   "source": [
    "pickle_in = open(\"bert_vectors4.pickle\", \"rb\")\n",
    "word_vectors4 = pickle.load(pickle_in)"
   ]
  },
  {
   "cell_type": "code",
   "execution_count": 7,
   "id": "15b987f7",
   "metadata": {},
   "outputs": [],
   "source": [
    "pickle_in = open(\"bert_vectors5.pickle\", \"rb\")\n",
    "word_vectors5 = pickle.load(pickle_in)"
   ]
  },
  {
   "cell_type": "code",
   "execution_count": 8,
   "id": "4ff27447",
   "metadata": {},
   "outputs": [],
   "source": [
    "word_vectors_concatenated = np.concatenate((word_vectors1, word_vectors2, word_vectors3, word_vectors4, word_vectors5))"
   ]
  },
  {
   "cell_type": "code",
   "execution_count": 9,
   "id": "8d6b1e79",
   "metadata": {},
   "outputs": [],
   "source": [
    "def getArticleVector(article):\n",
    "    return np.mean([word for word in article], axis = 0)"
   ]
  },
  {
   "cell_type": "code",
   "execution_count": 10,
   "id": "0dbeb919",
   "metadata": {},
   "outputs": [],
   "source": [
    "x = []\n",
    "for i in range(len(word_vectors_concatenated)):\n",
    "    x.append(getArticleVector(word_vectors_concatenated[i]))"
   ]
  },
  {
   "cell_type": "code",
   "execution_count": 11,
   "id": "a7b07ada",
   "metadata": {},
   "outputs": [],
   "source": [
    "y = dataset[\"true\"]"
   ]
  },
  {
   "cell_type": "code",
   "execution_count": 12,
   "id": "77bac82d",
   "metadata": {},
   "outputs": [],
   "source": [
    "rfc = RandomForestClassifier(n_estimators = 100)"
   ]
  },
  {
   "cell_type": "code",
   "execution_count": 13,
   "id": "e031833f",
   "metadata": {},
   "outputs": [
    {
     "name": "stdout",
     "output_type": "stream",
     "text": [
      "CV accuracy scores:  [0.916 0.924 0.904 0.914 0.918 0.93  0.92  0.92  0.914 0.936]\n",
      "Average CV accuracy score:  0.9196\n"
     ]
    }
   ],
   "source": [
    "# 10-fold cross-validation - accuracy\n",
    "scores = cross_val_score(rfc, x, y, cv = k_folds, scoring = 'accuracy')\n",
    "print(\"CV accuracy scores: \", scores)\n",
    "print(\"Average CV accuracy score: \", scores.mean())"
   ]
  },
  {
   "cell_type": "code",
   "execution_count": 14,
   "id": "a90aeba6",
   "metadata": {},
   "outputs": [
    {
     "name": "stdout",
     "output_type": "stream",
     "text": [
      "CV precision scores:  [0.91521515 0.92       0.91111213 0.9262     0.93000016 0.93214551\n",
      " 0.91557601 0.9089422  0.9221134  0.91404726]\n",
      "Average CV precision score:  0.9195351829139206\n"
     ]
    }
   ],
   "source": [
    "# 10-fold cross-validation - precision\n",
    "scores = cross_val_score(rfc, x, y, cv = k_folds, scoring = 'precision_weighted')\n",
    "print(\"CV precision scores: \", scores)\n",
    "print(\"Average CV precision score: \", scores.mean())"
   ]
  },
  {
   "cell_type": "code",
   "execution_count": 15,
   "id": "6a2831fa",
   "metadata": {},
   "outputs": [
    {
     "name": "stdout",
     "output_type": "stream",
     "text": [
      "CV recall scores:  [0.914 0.92  0.92  0.922 0.914 0.934 0.916 0.91  0.916 0.926]\n",
      "Average CV recall score:  0.9192\n"
     ]
    }
   ],
   "source": [
    "# 10-fold cross-validation - recall\n",
    "scores = cross_val_score(rfc, x, y, cv = k_folds, scoring = 'recall_weighted')\n",
    "print(\"CV recall scores: \", scores)\n",
    "print(\"Average CV recall score: \", scores.mean())"
   ]
  },
  {
   "cell_type": "code",
   "execution_count": 16,
   "id": "ff46e78a",
   "metadata": {},
   "outputs": [
    {
     "name": "stdout",
     "output_type": "stream",
     "text": [
      "CV f1 scores:  [0.91219839 0.92397304 0.91409953 0.92000512 0.91798523 0.92390209\n",
      " 0.91997312 0.91196479 0.91796938 0.92798848]\n",
      "Average CV f1 score:  0.9190059157103857\n"
     ]
    }
   ],
   "source": [
    "# 10-fold cross-validation - f1-score\n",
    "scores = cross_val_score(rfc, x, y, cv = k_folds, scoring = 'f1_weighted')\n",
    "print(\"CV f1 scores: \", scores)\n",
    "print(\"Average CV f1 score: \", scores.mean())"
   ]
  }
 ],
 "metadata": {
  "kernelspec": {
   "display_name": "Python 3 (ipykernel)",
   "language": "python",
   "name": "python3"
  },
  "language_info": {
   "codemirror_mode": {
    "name": "ipython",
    "version": 3
   },
   "file_extension": ".py",
   "mimetype": "text/x-python",
   "name": "python",
   "nbconvert_exporter": "python",
   "pygments_lexer": "ipython3",
   "version": "3.9.16"
  }
 },
 "nbformat": 4,
 "nbformat_minor": 5
}

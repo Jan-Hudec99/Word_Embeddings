{
 "cells": [
  {
   "cell_type": "code",
   "execution_count": 1,
   "id": "f15940fb",
   "metadata": {},
   "outputs": [],
   "source": [
    "import pandas as pd\n",
    "import numpy as np\n",
    "import warnings\n",
    "from sklearn.ensemble import RandomForestClassifier\n",
    "from sklearn.model_selection import KFold, cross_val_score\n",
    "import pickle\n",
    "\n",
    "warnings.simplefilter(action = 'ignore', category = FutureWarning)\n",
    "k_folds = KFold(n_splits = 10)"
   ]
  },
  {
   "cell_type": "code",
   "execution_count": 2,
   "id": "24637631",
   "metadata": {},
   "outputs": [],
   "source": [
    "dataset = pd.read_csv(\"News_dataset_preprocessed.csv\")\n",
    "articles = [w for w in dataset[\"text\"]]"
   ]
  },
  {
   "cell_type": "code",
   "execution_count": 3,
   "id": "dba95ea7",
   "metadata": {},
   "outputs": [],
   "source": [
    "pickle_in = open(\"tfidf_vectors.pickle\", \"rb\")\n",
    "word_vectors_TFIDF = pickle.load(pickle_in)"
   ]
  },
  {
   "cell_type": "code",
   "execution_count": 4,
   "id": "d94cbf11",
   "metadata": {},
   "outputs": [],
   "source": [
    "x = word_vectors_TFIDF"
   ]
  },
  {
   "cell_type": "code",
   "execution_count": 5,
   "id": "7e2dbace",
   "metadata": {},
   "outputs": [],
   "source": [
    "y = dataset[\"true\"]"
   ]
  },
  {
   "cell_type": "code",
   "execution_count": 6,
   "id": "ff08096b",
   "metadata": {},
   "outputs": [],
   "source": [
    "rfc = RandomForestClassifier(n_estimators = 100)"
   ]
  },
  {
   "cell_type": "code",
   "execution_count": 7,
   "id": "15692355",
   "metadata": {},
   "outputs": [
    {
     "name": "stdout",
     "output_type": "stream",
     "text": [
      "CV accuracy scores:  [0.99910913 0.99799555 0.99933185 0.99777283 0.99732739 0.99777283\n",
      " 0.99844098 0.99910913 0.99888617 0.99910893]\n",
      "Average CV accuracy score:  0.99848547873272\n"
     ]
    }
   ],
   "source": [
    "# 10-fold cross-validation - accuracy\n",
    "scores = cross_val_score(rfc, x, y, cv = k_folds, scoring = 'accuracy')\n",
    "print(\"CV accuracy scores: \", scores)\n",
    "print(\"Average CV accuracy score: \", scores.mean())"
   ]
  },
  {
   "cell_type": "code",
   "execution_count": 8,
   "id": "dfe52295",
   "metadata": {},
   "outputs": [
    {
     "name": "stdout",
     "output_type": "stream",
     "text": [
      "CV precision scores:  [0.99866413 0.99777333 0.99844199 0.9986637  0.99733406 0.99799661\n",
      " 0.99844106 0.99910956 0.99844328 0.99911061]\n",
      "Average CV precision score:  0.9983978331320165\n"
     ]
    }
   ],
   "source": [
    "# 10-fold cross-validation - precision\n",
    "scores = cross_val_score(rfc, x, y, cv = k_folds, scoring = 'precision_weighted')\n",
    "print(\"CV precision scores: \", scores)\n",
    "print(\"Average CV precision score: \", scores.mean())"
   ]
  },
  {
   "cell_type": "code",
   "execution_count": 9,
   "id": "40641d18",
   "metadata": {},
   "outputs": [
    {
     "name": "stdout",
     "output_type": "stream",
     "text": [
      "CV recall scores:  [0.99910913 0.99799555 0.99844098 0.99777283 0.99777283 0.99777283\n",
      " 0.99844098 0.99933185 0.9986634  0.99888617]\n",
      "Average CV recall score:  0.9984186536651583\n"
     ]
    }
   ],
   "source": [
    "# 10-fold cross-validation - recall\n",
    "scores = cross_val_score(rfc, x, y, cv = k_folds, scoring = 'recall_weighted')\n",
    "print(\"CV recall scores: \", scores)\n",
    "print(\"Average CV recall score: \", scores.mean())"
   ]
  },
  {
   "cell_type": "code",
   "execution_count": 10,
   "id": "d5ba7194",
   "metadata": {},
   "outputs": [
    {
     "name": "stdout",
     "output_type": "stream",
     "text": [
      "CV f1 scores:  [0.99821829 0.99777299 0.99777294 0.99844102 0.99777297 0.99777313\n",
      " 0.99821826 0.99910915 0.99866349 0.99910897]\n",
      "Average CV f1 score:  0.9982851203321068\n"
     ]
    }
   ],
   "source": [
    "# 10-fold cross-validation - f1-score\n",
    "scores = cross_val_score(rfc, x, y, cv = k_folds, scoring = 'f1_weighted')\n",
    "print(\"CV f1 scores: \", scores)\n",
    "print(\"Average CV f1 score: \", scores.mean())"
   ]
  }
 ],
 "metadata": {
  "kernelspec": {
   "display_name": "Python 3 (ipykernel)",
   "language": "python",
   "name": "python3"
  },
  "language_info": {
   "codemirror_mode": {
    "name": "ipython",
    "version": 3
   },
   "file_extension": ".py",
   "mimetype": "text/x-python",
   "name": "python",
   "nbconvert_exporter": "python",
   "pygments_lexer": "ipython3",
   "version": "3.9.16"
  }
 },
 "nbformat": 4,
 "nbformat_minor": 5
}

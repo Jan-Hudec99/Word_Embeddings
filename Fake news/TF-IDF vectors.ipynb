{
 "cells": [
  {
   "cell_type": "code",
   "execution_count": 11,
   "id": "76e388e5",
   "metadata": {},
   "outputs": [],
   "source": [
    "import pandas as pd\n",
    "import warnings\n",
    "from sklearn.feature_extraction.text import TfidfVectorizer\n",
    "import pickle\n",
    "\n",
    "warnings.simplefilter(action = 'ignore', category = FutureWarning)"
   ]
  },
  {
   "cell_type": "code",
   "execution_count": 12,
   "id": "01e2f760",
   "metadata": {},
   "outputs": [],
   "source": [
    "dataset = pd.read_csv(\"News_dataset_preprocessed.csv\")"
   ]
  },
  {
   "cell_type": "code",
   "execution_count": 13,
   "id": "574f3db8",
   "metadata": {},
   "outputs": [],
   "source": [
    "# TF-IDF\n",
    "word_vectorizer = TfidfVectorizer(\n",
    "    sublinear_tf = True,\n",
    "    strip_accents = 'unicode',\n",
    "    analyzer = 'word',\n",
    "    token_pattern = r'\\w{1,}',\n",
    "    stop_words = 'english',\n",
    "    ngram_range = (1, 3),\n",
    "    max_features = 10000\n",
    ")"
   ]
  },
  {
   "cell_type": "code",
   "execution_count": 14,
   "id": "b3d2c663",
   "metadata": {},
   "outputs": [],
   "source": [
    "# saving the vectors to disk\n",
    "pickle_out = open(\"tfidf_vectors.pickle\", \"wb\")\n",
    "pickle.dump(word_vectorizer.fit_transform(dataset['text'].values.astype('U')).toarray(), pickle_out)\n",
    "pickle_out.close()"
   ]
  }
 ],
 "metadata": {
  "kernelspec": {
   "display_name": "Python 3 (ipykernel)",
   "language": "python",
   "name": "python3"
  },
  "language_info": {
   "codemirror_mode": {
    "name": "ipython",
    "version": 3
   },
   "file_extension": ".py",
   "mimetype": "text/x-python",
   "name": "python",
   "nbconvert_exporter": "python",
   "pygments_lexer": "ipython3",
   "version": "3.9.16"
  }
 },
 "nbformat": 4,
 "nbformat_minor": 5
}

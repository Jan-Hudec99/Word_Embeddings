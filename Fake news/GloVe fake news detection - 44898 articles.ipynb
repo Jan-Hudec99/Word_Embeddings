{
 "cells": [
  {
   "cell_type": "code",
   "execution_count": 1,
   "id": "866cb20a",
   "metadata": {},
   "outputs": [],
   "source": [
    "import pandas as pd\n",
    "import numpy as np\n",
    "import warnings\n",
    "from sklearn.model_selection import train_test_split\n",
    "from sklearn.ensemble import RandomForestClassifier\n",
    "from sklearn.model_selection import KFold, cross_val_score\n",
    "from sklearn.metrics import accuracy_score, classification_report as cr\n",
    "import pickle\n",
    "\n",
    "warnings.simplefilter(action = 'ignore', category = FutureWarning)\n",
    "k_folds = KFold(n_splits = 10)"
   ]
  },
  {
   "cell_type": "code",
   "execution_count": 2,
   "id": "027eb678",
   "metadata": {},
   "outputs": [],
   "source": [
    "dataset = pd.read_csv(\"News_dataset_preprocessed.csv\")\n",
    "articles = [w for w in dataset[\"text\"]]"
   ]
  },
  {
   "cell_type": "code",
   "execution_count": 3,
   "id": "a2a4ffac",
   "metadata": {},
   "outputs": [],
   "source": [
    "pickle_in = open(\"glove_vectors.pickle\", \"rb\")\n",
    "word_vectors_GloVe = pickle.load(pickle_in)"
   ]
  },
  {
   "cell_type": "code",
   "execution_count": 4,
   "id": "d5f7a392",
   "metadata": {},
   "outputs": [],
   "source": [
    "def getArticleVector(article):\n",
    "    return np.mean([word for word in article], axis = 0)"
   ]
  },
  {
   "cell_type": "code",
   "execution_count": 5,
   "id": "9061387a",
   "metadata": {},
   "outputs": [],
   "source": [
    "x = []\n",
    "for i in range(len(word_vectors_GloVe)):\n",
    "    x.append(getArticleVector(word_vectors_GloVe[i]))"
   ]
  },
  {
   "cell_type": "code",
   "execution_count": 6,
   "id": "83c11a7a",
   "metadata": {},
   "outputs": [],
   "source": [
    "y = dataset[\"true\"]"
   ]
  },
  {
   "cell_type": "code",
   "execution_count": 7,
   "id": "fc668c14",
   "metadata": {},
   "outputs": [],
   "source": [
    "X_train, X_test, y_train, y_test = train_test_split(x, y, test_size = 0.2, random_state = 0)"
   ]
  },
  {
   "cell_type": "code",
   "execution_count": 8,
   "id": "2ba958f1",
   "metadata": {},
   "outputs": [],
   "source": [
    "rfc = RandomForestClassifier(n_estimators = 100)\n",
    "rfc.fit(X_train, y_train)\n",
    "y_pred = rfc.predict(X_test)"
   ]
  },
  {
   "cell_type": "code",
   "execution_count": 9,
   "id": "8218a36a",
   "metadata": {},
   "outputs": [
    {
     "name": "stdout",
     "output_type": "stream",
     "text": [
      "0.9454342984409799\n",
      "              precision    recall  f1-score   support\n",
      "\n",
      "           0       0.94      0.96      0.95      4709\n",
      "           1       0.95      0.93      0.94      4271\n",
      "\n",
      "    accuracy                           0.95      8980\n",
      "   macro avg       0.95      0.94      0.95      8980\n",
      "weighted avg       0.95      0.95      0.95      8980\n",
      "\n"
     ]
    }
   ],
   "source": [
    "score = accuracy_score(y_test, y_pred)\n",
    "print(score)\n",
    "print(cr(y_test, y_pred))"
   ]
  },
  {
   "cell_type": "code",
   "execution_count": 10,
   "id": "9be8906b",
   "metadata": {},
   "outputs": [],
   "source": [
    "# 10-fold cross-validation\n",
    "scores = cross_val_score(rfc, x, y, cv = k_folds)"
   ]
  },
  {
   "cell_type": "code",
   "execution_count": 11,
   "id": "dc6a3b6a",
   "metadata": {},
   "outputs": [
    {
     "name": "stdout",
     "output_type": "stream",
     "text": [
      "CV scores:  [0.95100223 0.94899777 0.95211581 0.95679287 0.94476615 0.94565702\n",
      " 0.94855234 0.95389755 0.94943194 0.94920918]\n",
      "Avg CV score:  0.9500422859938251\n"
     ]
    }
   ],
   "source": [
    "# 10-fold cross-validation results\n",
    "print(\"CV scores: \", scores)\n",
    "print(\"Avg CV score: \", scores.mean())"
   ]
  }
 ],
 "metadata": {
  "kernelspec": {
   "display_name": "Python 3 (ipykernel)",
   "language": "python",
   "name": "python3"
  },
  "language_info": {
   "codemirror_mode": {
    "name": "ipython",
    "version": 3
   },
   "file_extension": ".py",
   "mimetype": "text/x-python",
   "name": "python",
   "nbconvert_exporter": "python",
   "pygments_lexer": "ipython3",
   "version": "3.9.16"
  }
 },
 "nbformat": 4,
 "nbformat_minor": 5
}

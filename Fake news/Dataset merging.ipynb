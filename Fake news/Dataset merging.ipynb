{
 "cells": [
  {
   "cell_type": "code",
   "execution_count": 1,
   "id": "f34ecc3f",
   "metadata": {},
   "outputs": [],
   "source": [
    "import pandas as pd\n",
    "from nltk.stem import WordNetLemmatizer\n",
    "from nltk.corpus import stopwords\n",
    "from sklearn.utils import shuffle\n",
    "\n",
    "lemmatizer = WordNetLemmatizer()"
   ]
  },
  {
   "cell_type": "code",
   "execution_count": 2,
   "id": "6a0c0b22",
   "metadata": {},
   "outputs": [],
   "source": [
    "true_news = pd.read_csv(\"True_news_dataset.csv\")\n",
    "fake_news = pd.read_csv(\"Fake_news_dataset.csv\")"
   ]
  },
  {
   "cell_type": "code",
   "execution_count": 3,
   "id": "d3fc663a",
   "metadata": {},
   "outputs": [],
   "source": [
    "true_news = true_news[['text']]\n",
    "true_news['true'] = \"1\""
   ]
  },
  {
   "cell_type": "code",
   "execution_count": 4,
   "id": "d001d9bc",
   "metadata": {},
   "outputs": [],
   "source": [
    "fake_news = fake_news[['text']]\n",
    "fake_news['true'] = \"0\""
   ]
  },
  {
   "cell_type": "code",
   "execution_count": 5,
   "id": "981501a0",
   "metadata": {},
   "outputs": [],
   "source": [
    "merged_news = pd.concat([true_news, fake_news], ignore_index = True)"
   ]
  },
  {
   "cell_type": "code",
   "execution_count": 6,
   "id": "98cde85f",
   "metadata": {},
   "outputs": [
    {
     "data": {
      "text/html": [
       "<div>\n",
       "<style scoped>\n",
       "    .dataframe tbody tr th:only-of-type {\n",
       "        vertical-align: middle;\n",
       "    }\n",
       "\n",
       "    .dataframe tbody tr th {\n",
       "        vertical-align: top;\n",
       "    }\n",
       "\n",
       "    .dataframe thead th {\n",
       "        text-align: right;\n",
       "    }\n",
       "</style>\n",
       "<table border=\"1\" class=\"dataframe\">\n",
       "  <thead>\n",
       "    <tr style=\"text-align: right;\">\n",
       "      <th></th>\n",
       "      <th>text</th>\n",
       "      <th>true</th>\n",
       "    </tr>\n",
       "  </thead>\n",
       "  <tbody>\n",
       "    <tr>\n",
       "      <th>0</th>\n",
       "      <td>WASHINGTON (Reuters) - The United States and s...</td>\n",
       "      <td>1</td>\n",
       "    </tr>\n",
       "    <tr>\n",
       "      <th>1</th>\n",
       "      <td>BEIJING (Reuters) - China said on Wednesday th...</td>\n",
       "      <td>1</td>\n",
       "    </tr>\n",
       "    <tr>\n",
       "      <th>2</th>\n",
       "      <td>You remember that running Saturday Night Live ...</td>\n",
       "      <td>0</td>\n",
       "    </tr>\n",
       "    <tr>\n",
       "      <th>3</th>\n",
       "      <td>How in the world did this racist thug get elec...</td>\n",
       "      <td>0</td>\n",
       "    </tr>\n",
       "    <tr>\n",
       "      <th>4</th>\n",
       "      <td>The Russian President has immediately sent his...</td>\n",
       "      <td>0</td>\n",
       "    </tr>\n",
       "    <tr>\n",
       "      <th>...</th>\n",
       "      <td>...</td>\n",
       "      <td>...</td>\n",
       "    </tr>\n",
       "    <tr>\n",
       "      <th>44893</th>\n",
       "      <td>WASHINGTON (Reuters) - President Donald Trump’...</td>\n",
       "      <td>1</td>\n",
       "    </tr>\n",
       "    <tr>\n",
       "      <th>44894</th>\n",
       "      <td>Boston-based entrepreneur and inventor of Emai...</td>\n",
       "      <td>0</td>\n",
       "    </tr>\n",
       "    <tr>\n",
       "      <th>44895</th>\n",
       "      <td>Lili Bayer and Larry Cohler-Esses HaaretzSebas...</td>\n",
       "      <td>0</td>\n",
       "    </tr>\n",
       "    <tr>\n",
       "      <th>44896</th>\n",
       "      <td>BARCELONA/MADRID (Reuters) - Spain s state pro...</td>\n",
       "      <td>1</td>\n",
       "    </tr>\n",
       "    <tr>\n",
       "      <th>44897</th>\n",
       "      <td>Young black man delivers poignant message to ...</td>\n",
       "      <td>0</td>\n",
       "    </tr>\n",
       "  </tbody>\n",
       "</table>\n",
       "<p>44898 rows × 2 columns</p>\n",
       "</div>"
      ],
      "text/plain": [
       "                                                    text true\n",
       "0      WASHINGTON (Reuters) - The United States and s...    1\n",
       "1      BEIJING (Reuters) - China said on Wednesday th...    1\n",
       "2      You remember that running Saturday Night Live ...    0\n",
       "3      How in the world did this racist thug get elec...    0\n",
       "4      The Russian President has immediately sent his...    0\n",
       "...                                                  ...  ...\n",
       "44893  WASHINGTON (Reuters) - President Donald Trump’...    1\n",
       "44894  Boston-based entrepreneur and inventor of Emai...    0\n",
       "44895  Lili Bayer and Larry Cohler-Esses HaaretzSebas...    0\n",
       "44896  BARCELONA/MADRID (Reuters) - Spain s state pro...    1\n",
       "44897   Young black man delivers poignant message to ...    0\n",
       "\n",
       "[44898 rows x 2 columns]"
      ]
     },
     "execution_count": 6,
     "metadata": {},
     "output_type": "execute_result"
    }
   ],
   "source": [
    "merged_news = shuffle(merged_news)\n",
    "merged_news.reset_index(inplace = True, drop = True)\n",
    "merged_news"
   ]
  },
  {
   "cell_type": "code",
   "execution_count": 7,
   "id": "08d7c61c",
   "metadata": {},
   "outputs": [],
   "source": [
    "merged_news.to_csv(\"News_dataset_untouched.csv\")"
   ]
  }
 ],
 "metadata": {
  "kernelspec": {
   "display_name": "Python 3 (ipykernel)",
   "language": "python",
   "name": "python3"
  },
  "language_info": {
   "codemirror_mode": {
    "name": "ipython",
    "version": 3
   },
   "file_extension": ".py",
   "mimetype": "text/x-python",
   "name": "python",
   "nbconvert_exporter": "python",
   "pygments_lexer": "ipython3",
   "version": "3.9.16"
  }
 },
 "nbformat": 4,
 "nbformat_minor": 5
}

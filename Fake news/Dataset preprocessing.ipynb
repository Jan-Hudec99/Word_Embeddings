{
 "cells": [
  {
   "cell_type": "code",
   "execution_count": 3,
   "id": "95bc52e6",
   "metadata": {},
   "outputs": [],
   "source": [
    "import pandas as pd\n",
    "from nltk.stem import WordNetLemmatizer\n",
    "from nltk.corpus import stopwords\n",
    "from sklearn.utils import shuffle\n",
    "\n",
    "lemmatizer = WordNetLemmatizer()"
   ]
  },
  {
   "cell_type": "code",
   "execution_count": 4,
   "id": "a04ecf38",
   "metadata": {},
   "outputs": [],
   "source": [
    "dataset = pd.read_csv(\"News_dataset_untouched.csv\")\n",
    "articles = [w for w in dataset[\"text\"]]\n",
    "\n",
    "articles_lemmatized = []\n",
    "\n",
    "for i in range(0, len(articles)):\n",
    "    article = articles[i].lower().split()\n",
    "    article = [lemmatizer.lemmatize(word) for word in article if not word in stopwords.words('english')]\n",
    "    article = ' '.join(article)\n",
    "    article = article.replace(\"...\", \"\")\n",
    "    article = article.replace(',', \"\")\n",
    "    article = article.replace('“', \"\")\n",
    "    article = article.replace('”', \"\")\n",
    "    article = article.replace('’', \"\")\n",
    "    article = article.replace(':', \"\")\n",
    "    article = article.replace('.', \"\")\n",
    "    article = article.replace(')', \"\")\n",
    "    article = article.replace('(', \"\")\n",
    "    articles_lemmatized.append(article)"
   ]
  },
  {
   "cell_type": "code",
   "execution_count": 5,
   "id": "9a21d4cd",
   "metadata": {},
   "outputs": [
    {
     "name": "stderr",
     "output_type": "stream",
     "text": [
      "C:\\Users\\78mik\\AppData\\Local\\Temp\\ipykernel_11828\\1059567787.py:3: FutureWarning: DataFrame.set_axis 'inplace' keyword is deprecated and will be removed in a future version. Use `obj = obj.set_axis(..., copy=False)` instead\n",
      "  articles_lemmatized_df.set_axis(['text', 'true'], axis = 1, inplace = True)\n"
     ]
    }
   ],
   "source": [
    "articles_lemmatized_df = pd.DataFrame(articles_lemmatized)\n",
    "articles_lemmatized_df['true'] = dataset['true'].values\n",
    "articles_lemmatized_df.set_axis(['text', 'true'], axis = 1, inplace = True)"
   ]
  },
  {
   "cell_type": "code",
   "execution_count": 6,
   "id": "cc1da534",
   "metadata": {},
   "outputs": [
    {
     "data": {
      "text/html": [
       "<div>\n",
       "<style scoped>\n",
       "    .dataframe tbody tr th:only-of-type {\n",
       "        vertical-align: middle;\n",
       "    }\n",
       "\n",
       "    .dataframe tbody tr th {\n",
       "        vertical-align: top;\n",
       "    }\n",
       "\n",
       "    .dataframe thead th {\n",
       "        text-align: right;\n",
       "    }\n",
       "</style>\n",
       "<table border=\"1\" class=\"dataframe\">\n",
       "  <thead>\n",
       "    <tr style=\"text-align: right;\">\n",
       "      <th></th>\n",
       "      <th>text</th>\n",
       "      <th>true</th>\n",
       "    </tr>\n",
       "  </thead>\n",
       "  <tbody>\n",
       "    <tr>\n",
       "      <th>0</th>\n",
       "      <td>thank everything promote conservatism united s...</td>\n",
       "      <td>0</td>\n",
       "    </tr>\n",
       "    <tr>\n",
       "      <th>1</th>\n",
       "      <td>washington reuters - republican us lawmaker sa...</td>\n",
       "      <td>1</td>\n",
       "    </tr>\n",
       "    <tr>\n",
       "      <th>2</th>\n",
       "      <td>geneva reuters - thinly veiled reference us pr...</td>\n",
       "      <td>1</td>\n",
       "    </tr>\n",
       "    <tr>\n",
       "      <th>3</th>\n",
       "      <td>sharia law becomes official law eu see many bl...</td>\n",
       "      <td>0</td>\n",
       "    </tr>\n",
       "    <tr>\n",
       "      <th>4</th>\n",
       "      <td>one would think gun industry would thrive enti...</td>\n",
       "      <td>0</td>\n",
       "    </tr>\n",
       "    <tr>\n",
       "      <th>...</th>\n",
       "      <td>...</td>\n",
       "      <td>...</td>\n",
       "    </tr>\n",
       "    <tr>\n",
       "      <th>44893</th>\n",
       "      <td>frankfurt reuters - german authority arrested ...</td>\n",
       "      <td>1</td>\n",
       "    </tr>\n",
       "    <tr>\n",
       "      <th>44894</th>\n",
       "      <td>washington reuters - democrat fell short three...</td>\n",
       "      <td>1</td>\n",
       "    </tr>\n",
       "    <tr>\n",
       "      <th>44895</th>\n",
       "      <td>jakarta reuters - closure gusti ngurah rai air...</td>\n",
       "      <td>1</td>\n",
       "    </tr>\n",
       "    <tr>\n",
       "      <th>44896</th>\n",
       "      <td>hong kong reuters - jailing three hong kong de...</td>\n",
       "      <td>1</td>\n",
       "    </tr>\n",
       "    <tr>\n",
       "      <th>44897</th>\n",
       "      <td>deseret news said saturday endorsed candidate ...</td>\n",
       "      <td>0</td>\n",
       "    </tr>\n",
       "  </tbody>\n",
       "</table>\n",
       "<p>44898 rows × 2 columns</p>\n",
       "</div>"
      ],
      "text/plain": [
       "                                                    text  true\n",
       "0      thank everything promote conservatism united s...     0\n",
       "1      washington reuters - republican us lawmaker sa...     1\n",
       "2      geneva reuters - thinly veiled reference us pr...     1\n",
       "3      sharia law becomes official law eu see many bl...     0\n",
       "4      one would think gun industry would thrive enti...     0\n",
       "...                                                  ...   ...\n",
       "44893  frankfurt reuters - german authority arrested ...     1\n",
       "44894  washington reuters - democrat fell short three...     1\n",
       "44895  jakarta reuters - closure gusti ngurah rai air...     1\n",
       "44896  hong kong reuters - jailing three hong kong de...     1\n",
       "44897  deseret news said saturday endorsed candidate ...     0\n",
       "\n",
       "[44898 rows x 2 columns]"
      ]
     },
     "execution_count": 6,
     "metadata": {},
     "output_type": "execute_result"
    }
   ],
   "source": [
    "articles_lemmatized_df"
   ]
  },
  {
   "cell_type": "code",
   "execution_count": 7,
   "id": "b2758488",
   "metadata": {},
   "outputs": [],
   "source": [
    "articles_lemmatized_df.to_csv('News_dataset_preprocessed.csv')"
   ]
  }
 ],
 "metadata": {
  "kernelspec": {
   "display_name": "Python 3 (ipykernel)",
   "language": "python",
   "name": "python3"
  },
  "language_info": {
   "codemirror_mode": {
    "name": "ipython",
    "version": 3
   },
   "file_extension": ".py",
   "mimetype": "text/x-python",
   "name": "python",
   "nbconvert_exporter": "python",
   "pygments_lexer": "ipython3",
   "version": "3.9.16"
  }
 },
 "nbformat": 4,
 "nbformat_minor": 5
}

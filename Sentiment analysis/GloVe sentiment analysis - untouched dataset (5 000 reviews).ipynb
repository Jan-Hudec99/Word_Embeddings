{
 "cells": [
  {
   "cell_type": "code",
   "execution_count": 1,
   "id": "5ea47469",
   "metadata": {},
   "outputs": [],
   "source": [
    "import pandas as pd\n",
    "import numpy as np\n",
    "import warnings\n",
    "from sklearn.ensemble import RandomForestClassifier\n",
    "from sklearn.model_selection import KFold, cross_val_score\n",
    "import pickle\n",
    "\n",
    "warnings.simplefilter(action = 'ignore', category = FutureWarning)\n",
    "k_folds = KFold(n_splits = 10)"
   ]
  },
  {
   "cell_type": "code",
   "execution_count": 2,
   "id": "ceb73530",
   "metadata": {},
   "outputs": [],
   "source": [
    "dataset = pd.read_csv(\"IMDB_dataset_untouched.csv\")\n",
    "dataset.drop(dataset.tail(45000).index, inplace = True)\n",
    "reviews = [w for w in dataset[\"review\"]]"
   ]
  },
  {
   "cell_type": "code",
   "execution_count": 3,
   "id": "cba1100f",
   "metadata": {},
   "outputs": [],
   "source": [
    "pickle_in = open(\"glove_vectors_untouched.pickle\", \"rb\")\n",
    "word_vectors_GloVe = pickle.load(pickle_in)\n",
    "del word_vectors_GloVe[-45000:]"
   ]
  },
  {
   "cell_type": "code",
   "execution_count": 4,
   "id": "a7228f66",
   "metadata": {},
   "outputs": [],
   "source": [
    "def getReviewVector(review):\n",
    "    return np.mean([word for word in review], axis = 0)"
   ]
  },
  {
   "cell_type": "code",
   "execution_count": 5,
   "id": "e7be1668",
   "metadata": {},
   "outputs": [],
   "source": [
    "x = []\n",
    "for i in range(len(word_vectors_GloVe)):\n",
    "    x.append(getReviewVector(word_vectors_GloVe[i]))"
   ]
  },
  {
   "cell_type": "code",
   "execution_count": 6,
   "id": "3543f596",
   "metadata": {},
   "outputs": [],
   "source": [
    "y = pd.get_dummies(dataset[\"sentiment\"])\n",
    "y = y.iloc[:,1].values"
   ]
  },
  {
   "cell_type": "code",
   "execution_count": 7,
   "id": "f52d8825",
   "metadata": {},
   "outputs": [],
   "source": [
    "rfc = RandomForestClassifier(n_estimators = 100)"
   ]
  },
  {
   "cell_type": "code",
   "execution_count": 8,
   "id": "34da51ac",
   "metadata": {},
   "outputs": [
    {
     "name": "stdout",
     "output_type": "stream",
     "text": [
      "CV accuracy scores:  [0.756 0.768 0.732 0.738 0.736 0.732 0.736 0.756 0.746 0.746]\n",
      "Average CV accuracy score:  0.7445999999999999\n"
     ]
    }
   ],
   "source": [
    "# 10-fold cross-validation - accuracy\n",
    "scores = cross_val_score(rfc, x, y, cv = k_folds, scoring = 'accuracy')\n",
    "print(\"CV accuracy scores: \", scores)\n",
    "print(\"Average CV accuracy score: \", scores.mean())"
   ]
  },
  {
   "cell_type": "code",
   "execution_count": 9,
   "id": "c4356d44",
   "metadata": {},
   "outputs": [
    {
     "name": "stdout",
     "output_type": "stream",
     "text": [
      "CV precision scores:  [0.75878759 0.765568   0.72164364 0.72865143 0.72584866 0.73107163\n",
      " 0.74397464 0.76       0.75089028 0.75598097]\n",
      "Average CV precision score:  0.7442416835456469\n"
     ]
    }
   ],
   "source": [
    "# 10-fold cross-validation - precision\n",
    "scores = cross_val_score(rfc, x, y, cv = k_folds, scoring = 'precision_weighted')\n",
    "print(\"CV precision scores: \", scores)\n",
    "print(\"Average CV precision score: \", scores.mean())"
   ]
  },
  {
   "cell_type": "code",
   "execution_count": 10,
   "id": "9bd98b24",
   "metadata": {},
   "outputs": [
    {
     "name": "stdout",
     "output_type": "stream",
     "text": [
      "CV recall scores:  [0.768 0.76  0.744 0.728 0.722 0.716 0.74  0.774 0.752 0.744]\n",
      "Average CV recall score:  0.7447999999999999\n"
     ]
    }
   ],
   "source": [
    "# 10-fold cross-validation - recall\n",
    "scores = cross_val_score(rfc, x, y, cv = k_folds, scoring = 'recall_weighted')\n",
    "print(\"CV recall scores: \", scores)\n",
    "print(\"Average CV recall score: \", scores.mean())"
   ]
  },
  {
   "cell_type": "code",
   "execution_count": 11,
   "id": "9564c09c",
   "metadata": {},
   "outputs": [
    {
     "name": "stdout",
     "output_type": "stream",
     "text": [
      "CV f1 scores:  [0.75397335 0.74220138 0.72948535 0.73406715 0.72373408 0.728\n",
      " 0.750009   0.76626055 0.72970464 0.73774459]\n",
      "Average CV f1 score:  0.7395180103073955\n"
     ]
    }
   ],
   "source": [
    "# 10-fold cross-validation - f1-score\n",
    "scores = cross_val_score(rfc, x, y, cv = k_folds, scoring = 'f1_weighted')\n",
    "print(\"CV f1 scores: \", scores)\n",
    "print(\"Average CV f1 score: \", scores.mean())"
   ]
  }
 ],
 "metadata": {
  "kernelspec": {
   "display_name": "Python 3 (ipykernel)",
   "language": "python",
   "name": "python3"
  },
  "language_info": {
   "codemirror_mode": {
    "name": "ipython",
    "version": 3
   },
   "file_extension": ".py",
   "mimetype": "text/x-python",
   "name": "python",
   "nbconvert_exporter": "python",
   "pygments_lexer": "ipython3",
   "version": "3.9.16"
  }
 },
 "nbformat": 4,
 "nbformat_minor": 5
}

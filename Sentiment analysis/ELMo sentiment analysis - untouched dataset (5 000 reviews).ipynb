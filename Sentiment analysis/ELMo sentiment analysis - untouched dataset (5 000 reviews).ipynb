{
 "cells": [
  {
   "cell_type": "code",
   "execution_count": 1,
   "id": "9ca5c500",
   "metadata": {},
   "outputs": [],
   "source": [
    "import pandas as pd\n",
    "import numpy as np\n",
    "import warnings\n",
    "from sklearn.ensemble import RandomForestClassifier\n",
    "from sklearn.model_selection import KFold, cross_val_score\n",
    "import pickle\n",
    "\n",
    "warnings.simplefilter(action = 'ignore', category = FutureWarning)\n",
    "k_folds = KFold(n_splits = 10)"
   ]
  },
  {
   "cell_type": "code",
   "execution_count": 2,
   "id": "7a5bf610",
   "metadata": {},
   "outputs": [],
   "source": [
    "dataset = pd.read_csv(\"IMDB_dataset_untouched.csv\")\n",
    "dataset.drop(dataset.tail(45000).index, inplace = True)\n",
    "reviews = [w for w in dataset[\"review\"]]"
   ]
  },
  {
   "cell_type": "code",
   "execution_count": 3,
   "id": "1deed897",
   "metadata": {},
   "outputs": [],
   "source": [
    "pickle_in = open(\"elmo_vectors_untouched.pickle\", \"rb\")\n",
    "word_vectors = pickle.load(pickle_in)"
   ]
  },
  {
   "cell_type": "code",
   "execution_count": 4,
   "id": "8d6b1e79",
   "metadata": {},
   "outputs": [],
   "source": [
    "def getReviewVector(review):\n",
    "    return np.mean([word for word in review], axis = 0)"
   ]
  },
  {
   "cell_type": "code",
   "execution_count": 5,
   "id": "0dbeb919",
   "metadata": {},
   "outputs": [],
   "source": [
    "x = []\n",
    "for i in range(len(word_vectors)):\n",
    "    x.append(getReviewVector(word_vectors[i]))"
   ]
  },
  {
   "cell_type": "code",
   "execution_count": 6,
   "id": "a7b07ada",
   "metadata": {},
   "outputs": [],
   "source": [
    "y = pd.get_dummies(dataset[\"sentiment\"])\n",
    "y = y.iloc[:,1].values"
   ]
  },
  {
   "cell_type": "code",
   "execution_count": 7,
   "id": "77bac82d",
   "metadata": {},
   "outputs": [],
   "source": [
    "rfc = RandomForestClassifier(n_estimators = 100)"
   ]
  },
  {
   "cell_type": "code",
   "execution_count": 8,
   "id": "7ba710e3",
   "metadata": {},
   "outputs": [
    {
     "name": "stdout",
     "output_type": "stream",
     "text": [
      "CV accuracy scores:  [0.774 0.774 0.768 0.792 0.756 0.756 0.776 0.772 0.746 0.772]\n",
      "Average CV accuracy score:  0.7686\n"
     ]
    }
   ],
   "source": [
    "# 10-fold cross-validation - accuracy\n",
    "scores = cross_val_score(rfc, x, y, cv = k_folds, scoring = 'accuracy')\n",
    "print(\"CV accuracy scores: \", scores)\n",
    "print(\"Average CV accuracy score: \", scores.mean())"
   ]
  },
  {
   "cell_type": "code",
   "execution_count": 9,
   "id": "28086526",
   "metadata": {},
   "outputs": [
    {
     "name": "stdout",
     "output_type": "stream",
     "text": [
      "CV precision scores:  [0.76586699 0.76823966 0.76933052 0.79598969 0.75589338 0.77698022\n",
      " 0.78252257 0.77793618 0.780128   0.77208314]\n",
      "Average CV precision score:  0.774497033475953\n"
     ]
    }
   ],
   "source": [
    "# 10-fold cross-validation - precision\n",
    "scores = cross_val_score(rfc, x, y, cv = k_folds, scoring = 'precision_weighted')\n",
    "print(\"CV precision scores: \", scores)\n",
    "print(\"Average CV precision score: \", scores.mean())"
   ]
  },
  {
   "cell_type": "code",
   "execution_count": 10,
   "id": "72ba715d",
   "metadata": {},
   "outputs": [
    {
     "name": "stdout",
     "output_type": "stream",
     "text": [
      "CV recall scores:  [0.774 0.78  0.77  0.784 0.762 0.752 0.792 0.784 0.768 0.78 ]\n",
      "Average CV recall score:  0.7746000000000001\n"
     ]
    }
   ],
   "source": [
    "# 10-fold cross-validation - recall\n",
    "scores = cross_val_score(rfc, x, y, cv = k_folds, scoring = 'recall_weighted')\n",
    "print(\"CV recall scores: \", scores)\n",
    "print(\"Average CV recall score: \", scores.mean())"
   ]
  },
  {
   "cell_type": "code",
   "execution_count": 11,
   "id": "76d84366",
   "metadata": {},
   "outputs": [
    {
     "name": "stdout",
     "output_type": "stream",
     "text": [
      "CV f1 scores:  [0.80982367 0.79615676 0.79620911 0.77402084 0.74592361 0.76198382\n",
      " 0.76201999 0.77620325 0.750007   0.78606594]\n",
      "Average CV f1 score:  0.7758413997007887\n"
     ]
    }
   ],
   "source": [
    "# 10-fold cross-validation - f1-score\n",
    "scores = cross_val_score(rfc, x, y, cv = k_folds, scoring = 'f1_weighted')\n",
    "print(\"CV f1 scores: \", scores)\n",
    "print(\"Average CV f1 score: \", scores.mean())"
   ]
  }
 ],
 "metadata": {
  "kernelspec": {
   "display_name": "Python 3 (ipykernel)",
   "language": "python",
   "name": "python3"
  },
  "language_info": {
   "codemirror_mode": {
    "name": "ipython",
    "version": 3
   },
   "file_extension": ".py",
   "mimetype": "text/x-python",
   "name": "python",
   "nbconvert_exporter": "python",
   "pygments_lexer": "ipython3",
   "version": "3.9.16"
  }
 },
 "nbformat": 4,
 "nbformat_minor": 5
}

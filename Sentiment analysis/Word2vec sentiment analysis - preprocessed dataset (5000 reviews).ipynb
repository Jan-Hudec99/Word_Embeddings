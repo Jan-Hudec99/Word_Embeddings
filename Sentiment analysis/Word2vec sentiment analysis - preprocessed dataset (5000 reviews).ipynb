{
 "cells": [
  {
   "cell_type": "code",
   "execution_count": 1,
   "id": "c4af0a2f",
   "metadata": {},
   "outputs": [],
   "source": [
    "import pandas as pd\n",
    "import numpy as np\n",
    "import warnings\n",
    "from sklearn.model_selection import train_test_split\n",
    "from sklearn.ensemble import RandomForestClassifier\n",
    "from sklearn.model_selection import KFold, cross_val_score\n",
    "from sklearn.metrics import accuracy_score, classification_report as cr\n",
    "import pickle\n",
    "\n",
    "warnings.simplefilter(action = 'ignore', category = FutureWarning)\n",
    "k_folds = KFold(n_splits = 10)"
   ]
  },
  {
   "cell_type": "code",
   "execution_count": 2,
   "id": "39e0bf9f",
   "metadata": {},
   "outputs": [],
   "source": [
    "dataset = pd.read_csv(\"IMDB_dataset_preprocessed.csv\")\n",
    "dataset.drop(dataset.tail(45000).index, inplace = True)\n",
    "reviews = [w for w in dataset[\"review\"]]"
   ]
  },
  {
   "cell_type": "code",
   "execution_count": 3,
   "id": "f1f65268",
   "metadata": {},
   "outputs": [],
   "source": [
    "pickle_in = open(\"word2vec_cbow_vectors_preprocessed.pickle\", \"rb\")\n",
    "word_vectors_CBOW = pickle.load(pickle_in)\n",
    "del word_vectors_CBOW[-45000:]"
   ]
  },
  {
   "cell_type": "code",
   "execution_count": 4,
   "id": "38ed427e",
   "metadata": {},
   "outputs": [],
   "source": [
    "def getReviewVector(review):\n",
    "    return np.mean([word for word in review], axis = 0)"
   ]
  },
  {
   "cell_type": "code",
   "execution_count": 5,
   "id": "7268a062",
   "metadata": {},
   "outputs": [],
   "source": [
    "# CBOW\n",
    "x = []\n",
    "for i in range(len(word_vectors_CBOW)):\n",
    "    x.append(getReviewVector(word_vectors_CBOW[i]))"
   ]
  },
  {
   "cell_type": "code",
   "execution_count": 7,
   "id": "26a17390",
   "metadata": {},
   "outputs": [],
   "source": [
    "y = pd.get_dummies(dataset[\"sentiment\"])\n",
    "y = y.iloc[:,1].values"
   ]
  },
  {
   "cell_type": "code",
   "execution_count": 8,
   "id": "fa2e884b",
   "metadata": {},
   "outputs": [],
   "source": [
    "X_train, X_test, y_train, y_test = train_test_split(x, y, test_size = 0.2, random_state = 0)"
   ]
  },
  {
   "cell_type": "code",
   "execution_count": 94,
   "id": "584b68e3",
   "metadata": {},
   "outputs": [],
   "source": [
    "rfc = RandomForestClassifier(n_estimators = 100)\n",
    "rfc.fit(X_train, y_train)\n",
    "y_pred = rfc.predict(X_test)"
   ]
  },
  {
   "cell_type": "code",
   "execution_count": 95,
   "id": "fd6c07dd",
   "metadata": {},
   "outputs": [
    {
     "name": "stdout",
     "output_type": "stream",
     "text": [
      "0.813\n",
      "              precision    recall  f1-score   support\n",
      "\n",
      "           0       0.84      0.79      0.82       525\n",
      "           1       0.78      0.84      0.81       475\n",
      "\n",
      "    accuracy                           0.81      1000\n",
      "   macro avg       0.81      0.81      0.81      1000\n",
      "weighted avg       0.82      0.81      0.81      1000\n",
      "\n"
     ]
    }
   ],
   "source": [
    "score = accuracy_score(y_test, y_pred)\n",
    "print(score)\n",
    "print(cr(y_test, y_pred))"
   ]
  },
  {
   "cell_type": "code",
   "execution_count": 96,
   "id": "735cd9b3",
   "metadata": {},
   "outputs": [],
   "source": [
    "# 10-fold cross-validation - CBOW\n",
    "scores = cross_val_score(rfc, x, y, cv = k_folds)"
   ]
  },
  {
   "cell_type": "code",
   "execution_count": 97,
   "id": "cf9db57b",
   "metadata": {
    "scrolled": true
   },
   "outputs": [
    {
     "name": "stdout",
     "output_type": "stream",
     "text": [
      "CV scores:  [0.814 0.836 0.84  0.81  0.814 0.842 0.826 0.796 0.816 0.818]\n",
      "Avg CV score:  0.8211999999999999\n"
     ]
    }
   ],
   "source": [
    "# 10-fold cross-validation results - CBOW\n",
    "print(\"CV scores: \", scores)\n",
    "print(\"Avg CV score: \", scores.mean())"
   ]
  },
  {
   "cell_type": "code",
   "execution_count": 98,
   "id": "fda7886d",
   "metadata": {},
   "outputs": [],
   "source": [
    "pickle_in = open(\"word2vec_skip-gram_vectors_preprocessed.pickle\", \"rb\")\n",
    "word_vectors_Skip_Gram = pickle.load(pickle_in)\n",
    "del word_vectors_Skip_Gram[-45000:]"
   ]
  },
  {
   "cell_type": "code",
   "execution_count": 99,
   "id": "5720f11f",
   "metadata": {},
   "outputs": [],
   "source": [
    "# Skip-Gram\n",
    "x = []\n",
    "for i in range(len(word_vectors_Skip_Gram)):\n",
    "    x.append(getReviewVector(word_vectors_Skip_Gram[i]))"
   ]
  },
  {
   "cell_type": "code",
   "execution_count": 100,
   "id": "b7768dd0",
   "metadata": {},
   "outputs": [],
   "source": [
    "X_train, X_test, y_train, y_test = train_test_split(x, y, test_size = 0.2, random_state = 0)"
   ]
  },
  {
   "cell_type": "code",
   "execution_count": 101,
   "id": "9618ee04",
   "metadata": {},
   "outputs": [],
   "source": [
    "rfc = RandomForestClassifier(n_estimators = 100)\n",
    "rfc.fit(X_train, y_train)\n",
    "y_pred = rfc.predict(X_test)"
   ]
  },
  {
   "cell_type": "code",
   "execution_count": 102,
   "id": "c2a893bf",
   "metadata": {},
   "outputs": [
    {
     "name": "stdout",
     "output_type": "stream",
     "text": [
      "0.821\n",
      "              precision    recall  f1-score   support\n",
      "\n",
      "           0       0.85      0.79      0.82       525\n",
      "           1       0.79      0.85      0.82       475\n",
      "\n",
      "    accuracy                           0.82      1000\n",
      "   macro avg       0.82      0.82      0.82      1000\n",
      "weighted avg       0.82      0.82      0.82      1000\n",
      "\n"
     ]
    }
   ],
   "source": [
    "score = accuracy_score(y_test, y_pred)\n",
    "print(score)\n",
    "print(cr(y_test, y_pred))"
   ]
  },
  {
   "cell_type": "code",
   "execution_count": 103,
   "id": "cce67c81",
   "metadata": {},
   "outputs": [],
   "source": [
    "# 10-fold cross-validation - Skip-Gram\n",
    "scores = cross_val_score(rfc, x, y, cv = k_folds)"
   ]
  },
  {
   "cell_type": "code",
   "execution_count": 104,
   "id": "f0db26d7",
   "metadata": {},
   "outputs": [
    {
     "name": "stdout",
     "output_type": "stream",
     "text": [
      "CV scores:  [0.822 0.834 0.84  0.85  0.812 0.842 0.846 0.854 0.846 0.84 ]\n",
      "Avg CV score:  0.8386000000000001\n"
     ]
    }
   ],
   "source": [
    "# 10-fold cross-validation results - Skip-Gram\n",
    "print(\"CV scores: \", scores)\n",
    "print(\"Avg CV score: \", scores.mean())"
   ]
  }
 ],
 "metadata": {
  "kernelspec": {
   "display_name": "Python 3 (ipykernel)",
   "language": "python",
   "name": "python3"
  },
  "language_info": {
   "codemirror_mode": {
    "name": "ipython",
    "version": 3
   },
   "file_extension": ".py",
   "mimetype": "text/x-python",
   "name": "python",
   "nbconvert_exporter": "python",
   "pygments_lexer": "ipython3",
   "version": "3.9.16"
  }
 },
 "nbformat": 4,
 "nbformat_minor": 5
}

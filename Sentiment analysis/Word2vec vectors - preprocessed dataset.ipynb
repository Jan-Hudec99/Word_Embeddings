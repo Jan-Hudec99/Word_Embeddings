{
 "cells": [
  {
   "cell_type": "code",
   "execution_count": 1,
   "id": "7e4471ec",
   "metadata": {},
   "outputs": [],
   "source": [
    "from sklearn.manifold import TSNE\n",
    "import matplotlib.pyplot as plt\n",
    "import pandas as pd\n",
    "import numpy as np\n",
    "import gensim\n",
    "import warnings\n",
    "from gensim.models import Word2Vec\n",
    "from sklearn.model_selection import train_test_split\n",
    "from sklearn.naive_bayes import GaussianNB\n",
    "from sklearn.metrics import accuracy_score, classification_report as cr\n",
    "import pickle\n",
    "\n",
    "warnings.simplefilter(action = 'ignore', category = FutureWarning)"
   ]
  },
  {
   "cell_type": "code",
   "execution_count": 2,
   "id": "4a429699",
   "metadata": {
    "scrolled": true
   },
   "outputs": [],
   "source": [
    "dataset = pd.read_csv(\"IMDB_dataset_preprocessed.csv\")\n",
    "reviews = [w for w in dataset[\"review\"]]\n",
    "tokenized_words = [gensim.utils.simple_preprocess(w) for w in reviews]"
   ]
  },
  {
   "cell_type": "code",
   "execution_count": 3,
   "id": "78689c8c",
   "metadata": {},
   "outputs": [],
   "source": [
    "# CBOW model\n",
    "CBOW = gensim.models.Word2Vec(tokenized_words, min_count = 1,\n",
    "                              vector_size = 100, window = 5)"
   ]
  },
  {
   "cell_type": "code",
   "execution_count": 4,
   "id": "2505f498",
   "metadata": {},
   "outputs": [],
   "source": [
    "# Skip Gram model\n",
    "Skip_Gram = gensim.models.Word2Vec(tokenized_words, min_count = 1,\n",
    "                                   vector_size = 100, window = 5, sg = 1)"
   ]
  },
  {
   "cell_type": "code",
   "execution_count": 5,
   "id": "4ce3d922",
   "metadata": {},
   "outputs": [
    {
     "name": "stdout",
     "output_type": "stream",
     "text": [
      "[('film', 0.8614087104797363), ('flick', 0.7056543827056885), ('sure', 0.5978928208351135), ('guess', 0.5899489521980286), ('think', 0.5864476561546326), ('thats', 0.5829828977584839), ('really', 0.5796080231666565), ('sequel', 0.5596968531608582), ('probably', 0.5575019121170044), ('one', 0.5571088194847107)]\n"
     ]
    }
   ],
   "source": [
    "# 10 most similar words to \"movie\" - CBOW\n",
    "print(CBOW.wv.most_similar('movie'))"
   ]
  },
  {
   "cell_type": "code",
   "execution_count": 6,
   "id": "cba27f0c",
   "metadata": {},
   "outputs": [
    {
     "name": "stdout",
     "output_type": "stream",
     "text": [
      "[('film', 0.9169373512268066), ('atleast', 0.8606958985328674), ('havent', 0.8603647947311401), ('noroi', 0.8561639189720154), ('classed', 0.8527695536613464), ('kairo', 0.8497358560562134), ('strangeland', 0.8494115471839905), ('gymkata', 0.8454180955886841), ('hellborn', 0.8441919684410095), ('definately', 0.8404426574707031)]\n"
     ]
    }
   ],
   "source": [
    "# 10 most similar words to \"movie\" - Skip-Gram\n",
    "print(Skip_Gram.wv.most_similar('movie'))"
   ]
  },
  {
   "cell_type": "code",
   "execution_count": 7,
   "id": "cd622927",
   "metadata": {},
   "outputs": [
    {
     "name": "stdout",
     "output_type": "stream",
     "text": [
      "Similarity between the words 'film' and 'movie' - Word2vec CBOW :  0.8614087\n"
     ]
    }
   ],
   "source": [
    "print(\"Similarity between the words 'film' \" +\n",
    "\"and 'movie' - Word2vec CBOW : \",\n",
    "CBOW.wv.similarity('film', 'movie'))"
   ]
  },
  {
   "cell_type": "code",
   "execution_count": 8,
   "id": "7ce6a673",
   "metadata": {},
   "outputs": [
    {
     "name": "stdout",
     "output_type": "stream",
     "text": [
      "Similarity between the words 'film' and 'movie' - Word2vec Skip Gram :  0.91693735\n"
     ]
    }
   ],
   "source": [
    "print(\"Similarity between the words 'film' \" +\n",
    "\"and 'movie' - Word2vec Skip Gram : \",\n",
    "Skip_Gram.wv.similarity('film', 'movie'))"
   ]
  },
  {
   "cell_type": "code",
   "execution_count": 9,
   "id": "4c8abe98",
   "metadata": {},
   "outputs": [
    {
     "data": {
      "text/plain": [
       "array([ 0.6526196 ,  0.97499907, -1.3058894 ,  1.4511875 , -1.207476  ,\n",
       "        0.44969746,  0.8204881 ,  0.62045807,  0.59349406, -2.325909  ,\n",
       "       -1.7115284 , -2.0065882 , -1.3909165 ,  1.1234242 , -0.36226425,\n",
       "       -1.3845348 , -1.5656005 ,  0.5650764 ,  0.56011677, -1.2715254 ,\n",
       "       -0.5799136 ,  0.14500616,  2.403057  ,  0.08514342,  0.12930414,\n",
       "        0.7354083 , -0.5511373 ,  1.8231097 , -1.3577447 ,  2.4092011 ,\n",
       "       -1.6557853 , -1.6923255 , -0.7486774 , -1.8429466 ,  1.7377939 ,\n",
       "       -2.2683    ,  0.7105833 ,  1.1070528 ,  1.7449118 ,  0.8833759 ,\n",
       "        0.78019726,  1.6509631 ,  2.2275715 ,  1.0667877 ,  0.18433756,\n",
       "        0.34460834, -0.01730174, -1.9155755 ,  1.2531403 , -0.17353098,\n",
       "       -1.7821896 ,  1.1944914 , -1.5634118 ,  0.73384124,  2.1331089 ,\n",
       "        0.5010516 , -0.9138342 , -0.5138361 , -2.0702348 ,  3.036924  ,\n",
       "        0.86921   , -3.1428485 ,  1.0558674 , -1.0256234 ,  0.7864416 ,\n",
       "       -0.22436963, -1.3017973 ,  0.5335801 , -0.54321426, -0.60707164,\n",
       "       -0.10169019, -0.00393805,  2.270557  ,  0.6145512 ,  0.04534467,\n",
       "        0.5030349 , -1.0139533 ,  0.5522542 , -1.7319365 ,  0.4183366 ,\n",
       "       -1.2201334 , -0.00757974, -2.0708296 ,  1.155877  , -0.27674136,\n",
       "        0.3966918 ,  1.8040851 , -0.22387962, -1.8136573 ,  0.27380446,\n",
       "       -0.8423356 ,  0.378421  ,  0.8876842 , -0.32840765,  1.6442875 ,\n",
       "       -0.09201736, -2.2777276 , -0.42476103,  1.218741  ,  1.986971  ],\n",
       "      dtype=float32)"
      ]
     },
     "execution_count": 9,
     "metadata": {},
     "output_type": "execute_result"
    }
   ],
   "source": [
    "# word vector for \"word\" - CBOW\n",
    "CBOW.wv[\"word\"]"
   ]
  },
  {
   "cell_type": "code",
   "execution_count": 10,
   "id": "5035f9b8",
   "metadata": {},
   "outputs": [
    {
     "data": {
      "text/plain": [
       "array([-0.15382986,  0.40165874, -0.28123358, -0.2213752 ,  0.05740354,\n",
       "       -0.54565954,  0.42504102,  0.7875403 , -0.0645819 , -0.37346536,\n",
       "        0.02518096, -0.42690417, -0.28700367,  0.28749278, -0.06637834,\n",
       "       -0.31559387, -0.14757684, -0.18655491,  0.14431478, -0.17780569,\n",
       "        0.21541627, -0.05145617,  0.78011644, -0.29718906, -0.20921254,\n",
       "        0.34854147, -0.23066017,  0.04715181, -0.17981274,  0.354372  ,\n",
       "        0.05547636, -0.26362562,  0.5687688 , -0.18077628,  0.02891013,\n",
       "       -0.21219052,  0.27619419, -0.26770785, -0.11979751, -0.33560732,\n",
       "        0.33203772,  0.25248393,  0.8958985 ,  0.08544292,  0.04943155,\n",
       "       -0.10381365, -0.20768756, -0.38486236,  0.30511618,  0.46493205,\n",
       "        0.18800499,  0.11491307,  0.04261395, -0.04176256, -0.03488927,\n",
       "        0.21673332,  0.23031554, -0.29019699, -0.7173725 ,  0.50553   ,\n",
       "        0.14791167, -0.28163898, -0.04928314, -0.34858215, -0.0238496 ,\n",
       "        0.01111953,  0.33958516,  0.15254138, -0.546589  ,  0.05148575,\n",
       "        0.06181203,  0.26926827,  0.55027634,  0.18069129,  0.01319841,\n",
       "        0.30919635, -0.21493326, -0.181991  , -0.46460646,  0.44187626,\n",
       "       -0.48077768, -0.23098724, -0.29718873, -0.24638046,  0.26705417,\n",
       "       -0.23839237,  0.2517724 ,  0.56040186,  0.07868566,  0.2516823 ,\n",
       "        0.2648248 ,  0.40821952,  0.02300856,  0.06910975,  0.35172704,\n",
       "        0.06796995, -0.26069528,  0.11366984,  0.26674092,  0.65530735],\n",
       "      dtype=float32)"
      ]
     },
     "execution_count": 10,
     "metadata": {},
     "output_type": "execute_result"
    }
   ],
   "source": [
    "# word vector for \"word\" - Skip-Gram\n",
    "Skip_Gram.wv[\"word\"]"
   ]
  },
  {
   "cell_type": "code",
   "execution_count": 11,
   "id": "46b652ed",
   "metadata": {},
   "outputs": [],
   "source": [
    "#vocab = list(CBOW.wv.key_to_index)\n",
    "#X = CBOW.wv[vocab]\n",
    "\n",
    "#tsne = TSNE(n_components = 2)\n",
    "#X_tsne = tsne.fit_transform(X)\n",
    "\n",
    "#df = pd.DataFrame(X_tsne, index = vocab, columns = ['x', 'y'])\n",
    "\n",
    "#fig = plt.figure()\n",
    "#ax = fig.add_subplot(1, 1, 1)\n",
    "\n",
    "#ax.scatter(df['x'], df['y'])\n",
    "\n",
    "#for word, pos in df.iterrows():\n",
    "#    ax.annotate(word, pos)"
   ]
  },
  {
   "cell_type": "code",
   "execution_count": 12,
   "id": "76930ea9",
   "metadata": {},
   "outputs": [],
   "source": [
    "def display_closestwords_tsnescatterplot(model, modelName, word, size):\n",
    "    \n",
    "    arr = np.empty((0, size), dtype = 'f')\n",
    "    word_labels = [word]\n",
    "\n",
    "    close_words = model.similar_by_word(word)\n",
    "    \n",
    "    arr = np.append(arr, np.array([model[word]]), axis = 0)\n",
    "    for wrd_score in close_words:\n",
    "        wrd_vector = model[wrd_score[0]]\n",
    "        word_labels.append(wrd_score[0])\n",
    "        arr = np.append(arr, np.array([wrd_vector]), axis = 0)\n",
    "        \n",
    "        tsne = TSNE(n_components = 2, random_state = 0)\n",
    "        np.set_printoptions(suppress = True)\n",
    "        Y = tsne.fit_transform(arr)\n",
    "    \n",
    "    x_coords = Y[:, 0]\n",
    "    y_coords = Y[:, 1]\n",
    "    plt.scatter(x_coords, y_coords)\n",
    "    \n",
    "    for label, x, y in zip(word_labels, x_coords, y_coords):\n",
    "        plt.annotate(label, xy = (x, y), xytext = (0, 0), textcoords = 'offset points')\n",
    "    plt.xlim(x_coords.min() + 0.00005, x_coords.max() + 0.00005)\n",
    "    plt.ylim(y_coords.min() + 0.00005, y_coords.max() + 0.00005)\n",
    "    plt.title(\"Top 10 closest words to 'movie' - Word2vec \" + modelName, pad = 20)\n",
    "    plt.show()"
   ]
  },
  {
   "cell_type": "code",
   "execution_count": 13,
   "id": "e585a993",
   "metadata": {
    "scrolled": false
   },
   "outputs": [
    {
     "data": {
      "image/png": "[encoded data removed]",
      "text/plain": [
       "<Figure size 640x480 with 1 Axes>"
      ]
     },
     "metadata": {},
     "output_type": "display_data"
    }
   ],
   "source": [
    "display_closestwords_tsnescatterplot(CBOW.wv, 'CBOW', 'movie', 100)"
   ]
  },
  {
   "cell_type": "code",
   "execution_count": 14,
   "id": "f27ad68f",
   "metadata": {},
   "outputs": [
    {
     "data": {
      "image/png": "[encoded data removed]",
      "text/plain": [
       "<Figure size 640x480 with 1 Axes>"
      ]
     },
     "metadata": {},
     "output_type": "display_data"
    }
   ],
   "source": [
    "display_closestwords_tsnescatterplot(Skip_Gram.wv, 'Skip-Gram', 'movie', 100)"
   ]
  },
  {
   "cell_type": "code",
   "execution_count": 15,
   "id": "4d32ff27",
   "metadata": {},
   "outputs": [],
   "source": [
    "def getWordVectorCBOW(doc):\n",
    "    return [CBOW.wv[word] for word in doc if word in CBOW.wv.index_to_key]"
   ]
  },
  {
   "cell_type": "code",
   "execution_count": 16,
   "id": "adca7687",
   "metadata": {},
   "outputs": [],
   "source": [
    "word_vectors_CBOW = []\n",
    "for i in range(len(tokenized_words)):\n",
    "    word_vectors_CBOW.append(getWordVectorCBOW(tokenized_words[i]))"
   ]
  },
  {
   "cell_type": "code",
   "execution_count": 17,
   "id": "92359fad",
   "metadata": {},
   "outputs": [],
   "source": [
    "def getWordVectorSkipGram(doc):\n",
    "    return [Skip_Gram.wv[word] for word in doc if word in Skip_Gram.wv.index_to_key]"
   ]
  },
  {
   "cell_type": "code",
   "execution_count": 18,
   "id": "1562c947",
   "metadata": {},
   "outputs": [],
   "source": [
    "word_vectors_Skip_Gram = []\n",
    "for i in range(len(tokenized_words)):\n",
    "    word_vectors_Skip_Gram.append(getWordVectorSkipGram(tokenized_words[i]))"
   ]
  },
  {
   "cell_type": "code",
   "execution_count": 19,
   "id": "a754d48d",
   "metadata": {},
   "outputs": [],
   "source": [
    "# saving the vectors to disk\n",
    "pickle_out = open(\"word2vec_cbow_vectors_preprocessed.pickle\", \"wb\")\n",
    "pickle.dump(word_vectors_CBOW, pickle_out)\n",
    "pickle_out.close()"
   ]
  },
  {
   "cell_type": "code",
   "execution_count": 20,
   "id": "ef434b2e",
   "metadata": {},
   "outputs": [],
   "source": [
    "# saving the vectors to disk\n",
    "pickle_out = open(\"word2vec_skip-gram_vectors_preprocessed.pickle\", \"wb\")\n",
    "pickle.dump(word_vectors_Skip_Gram, pickle_out)\n",
    "pickle_out.close()"
   ]
  }
 ],
 "metadata": {
  "kernelspec": {
   "display_name": "Python 3 (ipykernel)",
   "language": "python",
   "name": "python3"
  },
  "language_info": {
   "codemirror_mode": {
    "name": "ipython",
    "version": 3
   },
   "file_extension": ".py",
   "mimetype": "text/x-python",
   "name": "python",
   "nbconvert_exporter": "python",
   "pygments_lexer": "ipython3",
   "version": "3.9.16"
  }
 },
 "nbformat": 4,
 "nbformat_minor": 5
}

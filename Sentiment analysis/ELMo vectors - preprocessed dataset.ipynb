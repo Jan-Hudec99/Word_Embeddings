{
 "cells": [
  {
   "cell_type": "code",
   "execution_count": 1,
   "id": "aefa1d83",
   "metadata": {},
   "outputs": [],
   "source": [
    "import tensorflow_hub as hub\n",
    "import tensorflow.compat.v1 as tf\n",
    "import pandas as pd\n",
    "import os\n",
    "import pickle\n",
    "\n",
    "os.environ['TF_CPP_MIN_LOG_LEVEL'] = '3' \n",
    "tf.disable_eager_execution()\n",
    "\n",
    "elmo = hub.Module(\"https://tfhub.dev/google/elmo/3\", trainable = True)\n",
    "\n",
    "dataset = pd.read_csv(\"IMDB_dataset_preprocessed.csv\")"
   ]
  },
  {
   "cell_type": "code",
   "execution_count": null,
   "id": "e0d4d820",
   "metadata": {},
   "outputs": [],
   "source": [
    "# getting the vectors for 5000 reviews in batches\n",
    "vectors = []\n",
    "i = 10\n",
    "while i <= 50000:\n",
    "    embeddings = elmo(dataset['review'].iloc[i-10:i], signature = \"default\", as_dict = True)[\"elmo\"]\n",
    "    init = tf.initialize_all_variables()\n",
    "    sess = tf.Session()\n",
    "    sess.run(init)\n",
    "\n",
    "    for j in sess.run(embeddings):\n",
    "        vectors.append(j)\n",
    "\n",
    "    i += 10"
   ]
  },
  {
   "cell_type": "code",
   "execution_count": null,
   "id": "44279664",
   "metadata": {},
   "outputs": [],
   "source": [
    "# saving the vectors to disk\n",
    "pickle_out = open(\"elmo_vectors_preprocessed.pickle\", \"wb\")\n",
    "pickle.dump(vectors, pickle_out)\n",
    "pickle_out.close()"
   ]
  }
 ],
 "metadata": {
  "kernelspec": {
   "display_name": "Python 3 (ipykernel)",
   "language": "python",
   "name": "python3"
  },
  "language_info": {
   "codemirror_mode": {
    "name": "ipython",
    "version": 3
   },
   "file_extension": ".py",
   "mimetype": "text/x-python",
   "name": "python",
   "nbconvert_exporter": "python",
   "pygments_lexer": "ipython3",
   "version": "3.9.16"
  }
 },
 "nbformat": 4,
 "nbformat_minor": 5
}

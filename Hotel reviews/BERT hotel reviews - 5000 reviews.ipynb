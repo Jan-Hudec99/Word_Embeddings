{
 "cells": [
  {
   "cell_type": "code",
   "execution_count": 15,
   "id": "9ca5c500",
   "metadata": {},
   "outputs": [],
   "source": [
    "import pandas as pd\n",
    "import numpy as np\n",
    "import warnings\n",
    "from sklearn.model_selection import train_test_split\n",
    "from sklearn.ensemble import RandomForestClassifier\n",
    "from sklearn.model_selection import KFold, cross_val_score\n",
    "from sklearn.metrics import accuracy_score, classification_report as cr\n",
    "import pickle\n",
    "\n",
    "warnings.simplefilter(action = 'ignore', category = FutureWarning)\n",
    "k_folds = KFold(n_splits = 10)"
   ]
  },
  {
   "cell_type": "code",
   "execution_count": 16,
   "id": "7a5bf610",
   "metadata": {},
   "outputs": [],
   "source": [
    "dataset = pd.read_csv(\"Hotel_dataset.csv\")\n",
    "dataset.drop(dataset.tail(15491).index, inplace = True)\n",
    "reviews = [w for w in dataset[\"Review\"]]"
   ]
  },
  {
   "cell_type": "code",
   "execution_count": 17,
   "id": "5fb7698d",
   "metadata": {},
   "outputs": [],
   "source": [
    "dataset.loc[dataset.Rating == 1, 'Rating'] = 0\n",
    "dataset.loc[dataset.Rating == 2, 'Rating'] = 0\n",
    "dataset.loc[dataset.Rating == 3, 'Rating'] = 0\n",
    "dataset.loc[dataset.Rating == 4, 'Rating'] = 1\n",
    "dataset.loc[dataset.Rating == 5, 'Rating'] = 1"
   ]
  },
  {
   "cell_type": "code",
   "execution_count": 18,
   "id": "1deed897",
   "metadata": {},
   "outputs": [],
   "source": [
    "pickle_in = open(\"bert_vectors1.pickle\", \"rb\")\n",
    "word_vectors1 = pickle.load(pickle_in)"
   ]
  },
  {
   "cell_type": "code",
   "execution_count": 19,
   "id": "9d90cd22",
   "metadata": {},
   "outputs": [],
   "source": [
    "pickle_in = open(\"bert_vectors2.pickle\", \"rb\")\n",
    "word_vectors2 = pickle.load(pickle_in)"
   ]
  },
  {
   "cell_type": "code",
   "execution_count": 20,
   "id": "a3310e0d",
   "metadata": {},
   "outputs": [],
   "source": [
    "pickle_in = open(\"bert_vectors3.pickle\", \"rb\")\n",
    "word_vectors3 = pickle.load(pickle_in)"
   ]
  },
  {
   "cell_type": "code",
   "execution_count": 21,
   "id": "a5f66f5f",
   "metadata": {},
   "outputs": [],
   "source": [
    "pickle_in = open(\"bert_vectors4.pickle\", \"rb\")\n",
    "word_vectors4 = pickle.load(pickle_in)"
   ]
  },
  {
   "cell_type": "code",
   "execution_count": 22,
   "id": "9db435fe",
   "metadata": {},
   "outputs": [],
   "source": [
    "pickle_in = open(\"bert_vectors5.pickle\", \"rb\")\n",
    "word_vectors5 = pickle.load(pickle_in)"
   ]
  },
  {
   "cell_type": "code",
   "execution_count": 23,
   "id": "cd5a8e68",
   "metadata": {},
   "outputs": [],
   "source": [
    "word_vectors_concatenated = np.concatenate((word_vectors1, word_vectors2, word_vectors3, word_vectors4, word_vectors5))"
   ]
  },
  {
   "cell_type": "code",
   "execution_count": 24,
   "id": "8d6b1e79",
   "metadata": {},
   "outputs": [],
   "source": [
    "def getReviewVector(review):\n",
    "    return np.mean([word for word in review], axis = 0)"
   ]
  },
  {
   "cell_type": "code",
   "execution_count": 25,
   "id": "0dbeb919",
   "metadata": {},
   "outputs": [],
   "source": [
    "x = []\n",
    "for i in range(len(word_vectors_concatenated)):\n",
    "    x.append(getReviewVector(word_vectors_concatenated[i]))"
   ]
  },
  {
   "cell_type": "code",
   "execution_count": 26,
   "id": "a7b07ada",
   "metadata": {},
   "outputs": [],
   "source": [
    "y = pd.get_dummies(dataset[\"Rating\"])\n",
    "y = y.iloc[:,1].values"
   ]
  },
  {
   "cell_type": "code",
   "execution_count": 27,
   "id": "53b2c6e9",
   "metadata": {},
   "outputs": [],
   "source": [
    "X_train, X_test, y_train, y_test = train_test_split(x, y, test_size = 0.2, random_state = 0)"
   ]
  },
  {
   "cell_type": "code",
   "execution_count": 28,
   "id": "77bac82d",
   "metadata": {},
   "outputs": [],
   "source": [
    "rfc = RandomForestClassifier(n_estimators = 100)\n",
    "rfc.fit(X_train, y_train)\n",
    "y_pred = rfc.predict(X_test)"
   ]
  },
  {
   "cell_type": "code",
   "execution_count": 29,
   "id": "b669861a",
   "metadata": {},
   "outputs": [
    {
     "name": "stdout",
     "output_type": "stream",
     "text": [
      "0.776\n",
      "              precision    recall  f1-score   support\n",
      "\n",
      "           0       0.88      0.31      0.46       305\n",
      "           1       0.76      0.98      0.86       695\n",
      "\n",
      "    accuracy                           0.78      1000\n",
      "   macro avg       0.82      0.64      0.66      1000\n",
      "weighted avg       0.80      0.78      0.74      1000\n",
      "\n"
     ]
    }
   ],
   "source": [
    "score = accuracy_score(y_test, y_pred)\n",
    "print(score)\n",
    "print(cr(y_test, y_pred))"
   ]
  },
  {
   "cell_type": "code",
   "execution_count": 30,
   "id": "508d1bc6",
   "metadata": {},
   "outputs": [],
   "source": [
    "# 10-fold cross-validation\n",
    "scores = cross_val_score(rfc, x, y, cv = k_folds)"
   ]
  },
  {
   "cell_type": "code",
   "execution_count": 31,
   "id": "d0afd036",
   "metadata": {},
   "outputs": [
    {
     "name": "stdout",
     "output_type": "stream",
     "text": [
      "CV scores:  [0.72  0.8   0.812 0.82  0.806 0.734 0.726 0.78  0.8   0.864]\n",
      "Avg CV score:  0.7862\n"
     ]
    }
   ],
   "source": [
    "# 10-fold cross-validation results\n",
    "print(\"CV scores: \", scores)\n",
    "print(\"Avg CV score: \", scores.mean())"
   ]
  }
 ],
 "metadata": {
  "kernelspec": {
   "display_name": "Python 3 (ipykernel)",
   "language": "python",
   "name": "python3"
  },
  "language_info": {
   "codemirror_mode": {
    "name": "ipython",
    "version": 3
   },
   "file_extension": ".py",
   "mimetype": "text/x-python",
   "name": "python",
   "nbconvert_exporter": "python",
   "pygments_lexer": "ipython3",
   "version": "3.9.16"
  }
 },
 "nbformat": 4,
 "nbformat_minor": 5
}

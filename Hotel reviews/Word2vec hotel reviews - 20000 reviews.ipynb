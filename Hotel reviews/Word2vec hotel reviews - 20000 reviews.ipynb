{
 "cells": [
  {
   "cell_type": "code",
   "execution_count": 112,
   "id": "4b9f6228",
   "metadata": {},
   "outputs": [],
   "source": [
    "import pandas as pd\n",
    "import numpy as np\n",
    "import warnings\n",
    "from sklearn.model_selection import train_test_split\n",
    "from sklearn.ensemble import RandomForestClassifier\n",
    "from sklearn.model_selection import KFold, cross_val_score\n",
    "from sklearn.metrics import accuracy_score, classification_report as cr\n",
    "import pickle\n",
    "\n",
    "warnings.simplefilter(action = 'ignore', category = FutureWarning)\n",
    "k_folds = KFold(n_splits = 10)"
   ]
  },
  {
   "cell_type": "code",
   "execution_count": 113,
   "id": "67bbe0ac",
   "metadata": {},
   "outputs": [],
   "source": [
    "dataset = pd.read_csv(\"Hotel_dataset.csv\")\n",
    "reviews = [w for w in dataset[\"Review\"]]"
   ]
  },
  {
   "cell_type": "code",
   "execution_count": null,
   "id": "8eeffff3",
   "metadata": {},
   "outputs": [],
   "source": [
    "dataset.loc[dataset.Rating == 1, 'Rating'] = 0\n",
    "dataset.loc[dataset.Rating == 2, 'Rating'] = 0\n",
    "dataset.loc[dataset.Rating == 3, 'Rating'] = 0\n",
    "dataset.loc[dataset.Rating == 4, 'Rating'] = 1\n",
    "dataset.loc[dataset.Rating == 5, 'Rating'] = 1"
   ]
  },
  {
   "cell_type": "code",
   "execution_count": 114,
   "id": "5660b4de",
   "metadata": {},
   "outputs": [],
   "source": [
    "pickle_in = open(\"word2vec_cbow_vectors.pickle\", \"rb\")\n",
    "word_vectors_CBOW = pickle.load(pickle_in)"
   ]
  },
  {
   "cell_type": "code",
   "execution_count": 115,
   "id": "b45f5507",
   "metadata": {},
   "outputs": [],
   "source": [
    "def getReviewVector(review):\n",
    "    return np.mean([word for word in review], axis = 0)"
   ]
  },
  {
   "cell_type": "code",
   "execution_count": 116,
   "id": "473f9f81",
   "metadata": {},
   "outputs": [],
   "source": [
    "# CBOW\n",
    "x = []\n",
    "for i in range(len(word_vectors_CBOW)):\n",
    "    x.append(getReviewVector(word_vectors_CBOW[i]))"
   ]
  },
  {
   "cell_type": "code",
   "execution_count": 118,
   "id": "38320fc7",
   "metadata": {},
   "outputs": [],
   "source": [
    "y = pd.get_dummies(dataset[\"Rating\"])\n",
    "y = y.iloc[:,1].values"
   ]
  },
  {
   "cell_type": "code",
   "execution_count": 119,
   "id": "83d0576d",
   "metadata": {},
   "outputs": [],
   "source": [
    "X_train, X_test, y_train, y_test = train_test_split(x, y, test_size = 0.2, random_state = 0)"
   ]
  },
  {
   "cell_type": "code",
   "execution_count": 120,
   "id": "4f7d4389",
   "metadata": {},
   "outputs": [],
   "source": [
    "rfc = RandomForestClassifier(n_estimators = 100)\n",
    "rfc.fit(X_train, y_train)\n",
    "y_pred = rfc.predict(X_test)"
   ]
  },
  {
   "cell_type": "code",
   "execution_count": 121,
   "id": "5e41a9cf",
   "metadata": {},
   "outputs": [
    {
     "name": "stdout",
     "output_type": "stream",
     "text": [
      "0.8638692363991217\n",
      "              precision    recall  f1-score   support\n",
      "\n",
      "           0       0.82      0.64      0.72      1111\n",
      "           1       0.88      0.95      0.91      2988\n",
      "\n",
      "    accuracy                           0.86      4099\n",
      "   macro avg       0.85      0.79      0.81      4099\n",
      "weighted avg       0.86      0.86      0.86      4099\n",
      "\n"
     ]
    }
   ],
   "source": [
    "score = accuracy_score(y_test, y_pred)\n",
    "print(score)\n",
    "print(cr(y_test, y_pred))"
   ]
  },
  {
   "cell_type": "code",
   "execution_count": 122,
   "id": "d3f1691f",
   "metadata": {},
   "outputs": [],
   "source": [
    "# 10-fold cross-validation - CBOW\n",
    "scores = cross_val_score(rfc, x, y, cv = k_folds)"
   ]
  },
  {
   "cell_type": "code",
   "execution_count": 123,
   "id": "d066c61f",
   "metadata": {},
   "outputs": [
    {
     "name": "stdout",
     "output_type": "stream",
     "text": [
      "CV scores:  [0.85512195 0.84236213 0.89263055 0.86578819 0.86627623 0.86285993\n",
      " 0.88384578 0.86920449 0.87896535 0.87262079]\n",
      "Avg CV score:  0.8689675391922294\n"
     ]
    }
   ],
   "source": [
    "# 10-fold cross-validation results - CBOW\n",
    "print(\"CV scores: \", scores)\n",
    "print(\"Avg CV score: \", scores.mean())"
   ]
  },
  {
   "cell_type": "code",
   "execution_count": 124,
   "id": "d460339a",
   "metadata": {},
   "outputs": [],
   "source": [
    "pickle_in = open(\"word2vec_skip-gram_vectors.pickle\", \"rb\")\n",
    "word_vectors_Skip_Gram = pickle.load(pickle_in)"
   ]
  },
  {
   "cell_type": "code",
   "execution_count": 125,
   "id": "4444123c",
   "metadata": {},
   "outputs": [],
   "source": [
    "# Skip-Gram\n",
    "x = []\n",
    "for i in range(len(word_vectors_Skip_Gram)):\n",
    "    x.append(getReviewVector(word_vectors_Skip_Gram[i]))"
   ]
  },
  {
   "cell_type": "code",
   "execution_count": 126,
   "id": "3436073f",
   "metadata": {},
   "outputs": [],
   "source": [
    "X_train, X_test, y_train, y_test = train_test_split(x, y, test_size = 0.2, random_state = 0)"
   ]
  },
  {
   "cell_type": "code",
   "execution_count": 127,
   "id": "e57c7ec1",
   "metadata": {},
   "outputs": [],
   "source": [
    "rfc = RandomForestClassifier(n_estimators = 100)\n",
    "rfc.fit(X_train, y_train)\n",
    "y_pred = rfc.predict(X_test)"
   ]
  },
  {
   "cell_type": "code",
   "execution_count": 128,
   "id": "3aa2ac57",
   "metadata": {},
   "outputs": [
    {
     "name": "stdout",
     "output_type": "stream",
     "text": [
      "0.8638692363991217\n",
      "              precision    recall  f1-score   support\n",
      "\n",
      "           0       0.83      0.62      0.71      1111\n",
      "           1       0.87      0.95      0.91      2988\n",
      "\n",
      "    accuracy                           0.86      4099\n",
      "   macro avg       0.85      0.79      0.81      4099\n",
      "weighted avg       0.86      0.86      0.86      4099\n",
      "\n"
     ]
    }
   ],
   "source": [
    "score = accuracy_score(y_test, y_pred)\n",
    "print(score)\n",
    "print(cr(y_test, y_pred))"
   ]
  },
  {
   "cell_type": "code",
   "execution_count": 129,
   "id": "0706cd66",
   "metadata": {},
   "outputs": [],
   "source": [
    "# 10-fold cross-validation - Skip-Gram\n",
    "scores = cross_val_score(rfc, x, y, cv = k_folds)"
   ]
  },
  {
   "cell_type": "code",
   "execution_count": 130,
   "id": "b41af0a9",
   "metadata": {},
   "outputs": [
    {
     "name": "stdout",
     "output_type": "stream",
     "text": [
      "CV scores:  [0.86341463 0.86530015 0.88823816 0.87896535 0.86774036 0.86627623\n",
      " 0.89019034 0.87310883 0.88384578 0.88482186]\n",
      "Avg CV score:  0.8761901701008226\n"
     ]
    }
   ],
   "source": [
    "# 10-fold cross-validation results - Skip-Gram\n",
    "print(\"CV scores: \", scores)\n",
    "print(\"Avg CV score: \", scores.mean())"
   ]
  }
 ],
 "metadata": {
  "kernelspec": {
   "display_name": "Python 3 (ipykernel)",
   "language": "python",
   "name": "python3"
  },
  "language_info": {
   "codemirror_mode": {
    "name": "ipython",
    "version": 3
   },
   "file_extension": ".py",
   "mimetype": "text/x-python",
   "name": "python",
   "nbconvert_exporter": "python",
   "pygments_lexer": "ipython3",
   "version": "3.9.16"
  }
 },
 "nbformat": 4,
 "nbformat_minor": 5
}

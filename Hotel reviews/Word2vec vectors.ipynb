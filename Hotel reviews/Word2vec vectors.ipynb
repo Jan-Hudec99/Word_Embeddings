{
 "cells": [
  {
   "cell_type": "code",
   "execution_count": 29,
   "id": "7e4471ec",
   "metadata": {},
   "outputs": [],
   "source": [
    "from sklearn.manifold import TSNE\n",
    "import matplotlib.pyplot as plt\n",
    "import pandas as pd\n",
    "import numpy as np\n",
    "import gensim\n",
    "import warnings\n",
    "from gensim.models import Word2Vec\n",
    "import pickle\n",
    "\n",
    "warnings.simplefilter(action = 'ignore', category = FutureWarning)"
   ]
  },
  {
   "cell_type": "code",
   "execution_count": 30,
   "id": "4a429699",
   "metadata": {
    "scrolled": true
   },
   "outputs": [],
   "source": [
    "dataset = pd.read_csv(\"Hotel_dataset.csv\")\n",
    "reviews = [w for w in dataset[\"Review\"]]\n",
    "tokenized_words = [gensim.utils.simple_preprocess(w) for w in reviews]"
   ]
  },
  {
   "cell_type": "code",
   "execution_count": 31,
   "id": "78689c8c",
   "metadata": {},
   "outputs": [],
   "source": [
    "# CBOW model\n",
    "CBOW = gensim.models.Word2Vec(tokenized_words, min_count = 1,\n",
    "                              vector_size = 100, window = 5)"
   ]
  },
  {
   "cell_type": "code",
   "execution_count": 32,
   "id": "2505f498",
   "metadata": {},
   "outputs": [],
   "source": [
    "# Skip Gram model\n",
    "Skip_Gram = gensim.models.Word2Vec(tokenized_words, min_count = 1,\n",
    "                                   vector_size = 100, window = 5, sg = 1)"
   ]
  },
  {
   "cell_type": "code",
   "execution_count": 33,
   "id": "4ce3d922",
   "metadata": {},
   "outputs": [
    {
     "name": "stdout",
     "output_type": "stream",
     "text": [
      "[('property', 0.6567264199256897), ('hotels', 0.5954607725143433), ('hilton', 0.5566701889038086), ('central', 0.5402378439903259), ('amsterdam', 0.5390459299087524), ('centrally', 0.5385405421257019), ('pickwick', 0.536456823348999), ('boston', 0.5306843519210815), ('accommodation', 0.529130756855011), ('granados', 0.5274788737297058)]\n"
     ]
    }
   ],
   "source": [
    "# 10 most similar words to \"hotel\" - CBOW\n",
    "print(CBOW.wv.most_similar('hotel'))"
   ]
  },
  {
   "cell_type": "code",
   "execution_count": 34,
   "id": "cba27f0c",
   "metadata": {},
   "outputs": [
    {
     "name": "stdout",
     "output_type": "stream",
     "text": [
      "[('granados', 0.8342074155807495), ('sumner', 0.8319681882858276), ('principal', 0.8300634026527405), ('fantastically', 0.8285501599311829), ('alba', 0.825036883354187), ('suburb', 0.8207505941390991), ('pluses', 0.8184846639633179), ('andra', 0.8154661655426025), ('travelodge', 0.8152617812156677), ('digs', 0.8136069178581238)]\n"
     ]
    }
   ],
   "source": [
    "# 10 most similar words to \"hotel\" - Skip-Gram\n",
    "print(Skip_Gram.wv.most_similar('hotel'))"
   ]
  },
  {
   "cell_type": "code",
   "execution_count": 35,
   "id": "cd622927",
   "metadata": {},
   "outputs": [
    {
     "name": "stdout",
     "output_type": "stream",
     "text": [
      "Similarity between the words 'hotel' and 'room' - Word2vec CBOW :  0.3350409\n"
     ]
    }
   ],
   "source": [
    "print(\"Similarity between the words 'hotel' \" +\n",
    "\"and 'room' - Word2vec CBOW : \",\n",
    "CBOW.wv.similarity('hotel', 'room'))"
   ]
  },
  {
   "cell_type": "code",
   "execution_count": 36,
   "id": "7ce6a673",
   "metadata": {},
   "outputs": [
    {
     "name": "stdout",
     "output_type": "stream",
     "text": [
      "Similarity between the words 'hotel' and 'room' - Word2vec Skip Gram :  0.63881767\n"
     ]
    }
   ],
   "source": [
    "print(\"Similarity between the words 'hotel' \" +\n",
    "\"and 'room' - Word2vec Skip Gram : \",\n",
    "Skip_Gram.wv.similarity('hotel', 'room'))"
   ]
  },
  {
   "cell_type": "code",
   "execution_count": 37,
   "id": "4c8abe98",
   "metadata": {},
   "outputs": [
    {
     "data": {
      "text/plain": [
       "array([ 1.3320521 , -0.27255416, -0.29089558,  0.40411595, -1.8904995 ,\n",
       "       -0.01652337,  1.1428441 ,  0.6440376 , -0.3024923 , -1.3692763 ,\n",
       "       -0.25653386, -0.0997182 , -0.5715361 ,  0.490204  ,  1.5630435 ,\n",
       "        1.0657414 ,  0.90493315,  1.2935921 , -0.9414102 , -0.8482766 ,\n",
       "        0.927677  ,  1.5910937 , -0.26893398,  1.3408849 ,  0.94726026,\n",
       "       -1.665314  , -0.45365518,  0.13623942, -0.82677543,  0.3164727 ,\n",
       "       -1.5263723 ,  1.2769052 ,  0.26219565, -1.0437715 , -1.8839079 ,\n",
       "       -0.97302306,  0.71074635,  0.4907431 , -0.265028  ,  1.3004159 ,\n",
       "        0.0942222 ,  0.60559803, -1.1423281 , -0.28336522,  0.81535137,\n",
       "        0.5491871 , -0.9472199 ,  0.82653975,  0.27161348, -0.5312284 ,\n",
       "       -0.3248947 ,  0.73022455, -0.7078871 , -0.7563318 , -0.8529786 ,\n",
       "        0.09115585, -0.4006204 , -0.5937219 ,  0.39375523,  1.702798  ,\n",
       "        0.96831536,  0.7574695 ,  0.42913458, -0.46312514, -1.0439546 ,\n",
       "       -1.316612  ,  0.15447934,  1.559853  , -0.08118337,  0.948766  ,\n",
       "        0.56656027,  0.26733857,  1.3048394 ,  0.0129537 ,  1.17868   ,\n",
       "        1.658045  ,  0.8405678 ,  0.340422  , -0.29490003, -0.43849897,\n",
       "       -0.39433613,  1.4173208 ,  0.20233417, -0.51965725, -1.9964863 ,\n",
       "       -1.7507633 ,  1.6333727 , -0.5313669 , -0.6466742 ,  0.9627194 ,\n",
       "       -1.0472476 ,  0.0317027 ,  0.96640277, -0.57701755,  0.42484465,\n",
       "        2.1845334 ,  1.6224855 , -1.7724676 ,  1.5968722 , -0.412562  ],\n",
       "      dtype=float32)"
      ]
     },
     "execution_count": 37,
     "metadata": {},
     "output_type": "execute_result"
    }
   ],
   "source": [
    "# word vector for \"hotel\" - CBOW\n",
    "CBOW.wv[\"hotel\"]"
   ]
  },
  {
   "cell_type": "code",
   "execution_count": 38,
   "id": "5035f9b8",
   "metadata": {},
   "outputs": [
    {
     "data": {
      "text/plain": [
       "array([-0.04155179,  0.0862861 ,  0.01751917, -0.380105  , -0.56984997,\n",
       "       -0.17019886,  0.37843058,  0.6758794 ,  0.01248899, -0.11667135,\n",
       "       -0.07697765, -0.36184254, -0.31020045,  0.04743012, -0.10311513,\n",
       "       -0.05978414,  0.02017144,  0.09871303, -0.21506295, -0.32834035,\n",
       "        0.1781309 ,  0.3883741 , -0.09037273,  0.09626234,  0.12767306,\n",
       "        0.01941334, -0.09303152, -0.06833485, -0.3909628 ,  0.39205238,\n",
       "        0.06745459,  0.25382516,  0.31487912, -0.24186647, -0.20604667,\n",
       "        0.09396545, -0.20131682, -0.10839626, -0.12296202,  0.09963858,\n",
       "       -0.40026572, -0.1512338 , -0.5696302 ,  0.05547721,  0.15464959,\n",
       "       -0.23691154, -0.03245516,  0.00514217,  0.165482  ,  0.4520302 ,\n",
       "        0.44709   , -0.10727974, -0.02841475, -0.15450604, -0.61734384,\n",
       "        0.21492994,  0.09226525, -0.02950972,  0.1295681 ,  0.1929809 ,\n",
       "        0.20224914,  0.06634237,  0.10911951,  0.02790071, -0.39537242,\n",
       "        0.03703753, -0.11738549,  0.47755718, -0.22401144,  0.30031717,\n",
       "       -0.12995575,  0.15271443,  0.19889066, -0.03008408,  0.31700203,\n",
       "        0.28120336,  0.0737033 , -0.01269623, -0.28621984, -0.04768843,\n",
       "       -0.23830256,  0.24015364, -0.24204242,  0.31457847, -0.50914246,\n",
       "        0.06057938,  0.3959396 , -0.1076884 ,  0.08319958,  0.22765172,\n",
       "        0.15685606,  0.24758148,  0.5098279 , -0.20868076,  0.7443273 ,\n",
       "        0.5417574 ,  0.21801397, -0.20901783,  0.05836901,  0.21558389],\n",
       "      dtype=float32)"
      ]
     },
     "execution_count": 38,
     "metadata": {},
     "output_type": "execute_result"
    }
   ],
   "source": [
    "# word vector for \"hotel\" - Skip-Gram\n",
    "Skip_Gram.wv[\"hotel\"]"
   ]
  },
  {
   "cell_type": "code",
   "execution_count": 60,
   "id": "76930ea9",
   "metadata": {},
   "outputs": [],
   "source": [
    "def display_closestwords_tsnescatterplot(model, modelName, word, size):\n",
    "    \n",
    "    arr = np.empty((0, size), dtype = 'f')\n",
    "    word_labels = [word]\n",
    "\n",
    "    close_words = model.similar_by_word(word)\n",
    "    \n",
    "    arr = np.append(arr, np.array([model[word]]), axis = 0)\n",
    "    for wrd_score in close_words:\n",
    "        wrd_vector = model[wrd_score[0]]\n",
    "        word_labels.append(wrd_score[0])\n",
    "        arr = np.append(arr, np.array([wrd_vector]), axis = 0)\n",
    "        \n",
    "        tsne = TSNE(n_components = 2, random_state = 0, perplexity = 1)\n",
    "        np.set_printoptions(suppress = True)\n",
    "        test = tsne.fit_transform(arr)\n",
    "        Y = tsne.fit_transform(arr)\n",
    "    \n",
    "    x_coords = Y[:, 0]\n",
    "    y_coords = Y[:, 1]\n",
    "    plt.scatter(x_coords, y_coords)\n",
    "    \n",
    "    for label, x, y in zip(word_labels, x_coords, y_coords):\n",
    "        plt.annotate(label, xy = (x, y), xytext = (0, 0), textcoords = 'offset points')\n",
    "    plt.xlim(x_coords.min() + 0.00005, x_coords.max() + 0.00005)\n",
    "    plt.ylim(y_coords.min() + 0.00005, y_coords.max() + 0.00005)\n",
    "    plt.title(\"Top 10 closest words to 'hotel' - Word2vec \" + modelName, pad = 20)\n",
    "    plt.show()"
   ]
  },
  {
   "cell_type": "code",
   "execution_count": 61,
   "id": "e585a993",
   "metadata": {
    "scrolled": false
   },
   "outputs": [
    {
     "data": {
      "image/png": "[encoded data removed]",
      "text/plain": [
       "<Figure size 640x480 with 1 Axes>"
      ]
     },
     "metadata": {},
     "output_type": "display_data"
    }
   ],
   "source": [
    "display_closestwords_tsnescatterplot(CBOW.wv, 'CBOW', 'hotel', 100)"
   ]
  },
  {
   "cell_type": "code",
   "execution_count": null,
   "id": "f27ad68f",
   "metadata": {},
   "outputs": [],
   "source": [
    "display_closestwords_tsnescatterplot(Skip_Gram.wv, 'Skip-Gram', 'hotel', 100)"
   ]
  },
  {
   "cell_type": "code",
   "execution_count": null,
   "id": "4d32ff27",
   "metadata": {},
   "outputs": [],
   "source": [
    "def getWordVectorCBOW(doc):\n",
    "    return [CBOW.wv[word] for word in doc if word in CBOW.wv.index_to_key]"
   ]
  },
  {
   "cell_type": "code",
   "execution_count": null,
   "id": "adca7687",
   "metadata": {},
   "outputs": [],
   "source": [
    "word_vectors_CBOW = []\n",
    "for i in range(len(tokenized_words)):\n",
    "    word_vectors_CBOW.append(getWordVectorCBOW(tokenized_words[i]))"
   ]
  },
  {
   "cell_type": "code",
   "execution_count": null,
   "id": "92359fad",
   "metadata": {},
   "outputs": [],
   "source": [
    "def getWordVectorSkipGram(doc):\n",
    "    return [Skip_Gram.wv[word] for word in doc if word in Skip_Gram.wv.index_to_key]"
   ]
  },
  {
   "cell_type": "code",
   "execution_count": null,
   "id": "1562c947",
   "metadata": {},
   "outputs": [],
   "source": [
    "word_vectors_Skip_Gram = []\n",
    "for i in range(len(tokenized_words)):\n",
    "    word_vectors_Skip_Gram.append(getWordVectorSkipGram(tokenized_words[i]))"
   ]
  },
  {
   "cell_type": "code",
   "execution_count": null,
   "id": "a754d48d",
   "metadata": {},
   "outputs": [],
   "source": [
    "# saving the vectors to disk\n",
    "pickle_out = open(\"word2vec_cbow_vectors.pickle\", \"wb\")\n",
    "pickle.dump(word_vectors_CBOW, pickle_out)\n",
    "pickle_out.close()"
   ]
  },
  {
   "cell_type": "code",
   "execution_count": null,
   "id": "ef434b2e",
   "metadata": {},
   "outputs": [],
   "source": [
    "# saving the vectors to disk\n",
    "pickle_out = open(\"word2vec_skip-gram_vectors.pickle\", \"wb\")\n",
    "pickle.dump(word_vectors_Skip_Gram, pickle_out)\n",
    "pickle_out.close()"
   ]
  }
 ],
 "metadata": {
  "kernelspec": {
   "display_name": "Python 3 (ipykernel)",
   "language": "python",
   "name": "python3"
  },
  "language_info": {
   "codemirror_mode": {
    "name": "ipython",
    "version": 3
   },
   "file_extension": ".py",
   "mimetype": "text/x-python",
   "name": "python",
   "nbconvert_exporter": "python",
   "pygments_lexer": "ipython3",
   "version": "3.9.16"
  }
 },
 "nbformat": 4,
 "nbformat_minor": 5
}

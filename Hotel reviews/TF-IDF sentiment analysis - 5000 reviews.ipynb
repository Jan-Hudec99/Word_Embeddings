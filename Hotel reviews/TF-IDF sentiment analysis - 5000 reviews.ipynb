{
 "cells": [
  {
   "cell_type": "code",
   "execution_count": 1,
   "id": "f15940fb",
   "metadata": {},
   "outputs": [],
   "source": [
    "import pandas as pd\n",
    "import numpy as np\n",
    "import warnings\n",
    "from sklearn.model_selection import train_test_split\n",
    "from sklearn.ensemble import RandomForestClassifier\n",
    "from sklearn.model_selection import KFold, cross_val_score\n",
    "from sklearn.metrics import accuracy_score, classification_report as cr\n",
    "import pickle\n",
    "\n",
    "warnings.simplefilter(action = 'ignore', category = FutureWarning)\n",
    "k_folds = KFold(n_splits = 10)"
   ]
  },
  {
   "cell_type": "code",
   "execution_count": 2,
   "id": "24637631",
   "metadata": {},
   "outputs": [],
   "source": [
    "dataset = pd.read_csv(\"Hotel_dataset.csv\")\n",
    "dataset.drop(dataset.tail(15491).index, inplace = True)\n",
    "reviews = [w for w in dataset[\"Review\"]]"
   ]
  },
  {
   "cell_type": "code",
   "execution_count": null,
   "id": "fead91a7",
   "metadata": {},
   "outputs": [],
   "source": [
    "dataset.loc[dataset.Rating == 1, 'Rating'] = 0\n",
    "dataset.loc[dataset.Rating == 2, 'Rating'] = 0\n",
    "dataset.loc[dataset.Rating == 3, 'Rating'] = 0\n",
    "dataset.loc[dataset.Rating == 4, 'Rating'] = 1\n",
    "dataset.loc[dataset.Rating == 5, 'Rating'] = 1"
   ]
  },
  {
   "cell_type": "code",
   "execution_count": 3,
   "id": "dba95ea7",
   "metadata": {},
   "outputs": [],
   "source": [
    "pickle_in = open(\"tfidf_vectors_.pickle\", \"rb\")\n",
    "word_vectors_TFIDF = pickle.load(pickle_in)"
   ]
  },
  {
   "cell_type": "code",
   "execution_count": 4,
   "id": "114cfafa",
   "metadata": {},
   "outputs": [],
   "source": [
    "x = word_vectors_TFIDF[:-15491]"
   ]
  },
  {
   "cell_type": "code",
   "execution_count": 5,
   "id": "7e2dbace",
   "metadata": {},
   "outputs": [],
   "source": [
    "y = pd.get_dummies(dataset[\"Rating\"])\n",
    "y = y.iloc[:,1].values"
   ]
  },
  {
   "cell_type": "code",
   "execution_count": 6,
   "id": "0d6f60f7",
   "metadata": {},
   "outputs": [],
   "source": [
    "X_train, X_test, y_train, y_test = train_test_split(x, y, test_size = 0.2, random_state = 0)"
   ]
  },
  {
   "cell_type": "code",
   "execution_count": 7,
   "id": "ff08096b",
   "metadata": {},
   "outputs": [],
   "source": [
    "TFIDF_NB = GaussianNB().fit(X_train, y_train)"
   ]
  },
  {
   "cell_type": "code",
   "execution_count": 8,
   "id": "3090435f",
   "metadata": {},
   "outputs": [],
   "source": [
    "TFIDF_NB_prediction = TFIDF_NB.predict(X_test)"
   ]
  },
  {
   "cell_type": "code",
   "execution_count": 9,
   "id": "58abebe0",
   "metadata": {},
   "outputs": [
    {
     "name": "stdout",
     "output_type": "stream",
     "text": [
      "0.708\n",
      "              precision    recall  f1-score   support\n",
      "\n",
      "           0       0.72      0.72      0.72       525\n",
      "           1       0.69      0.69      0.69       475\n",
      "\n",
      "    accuracy                           0.71      1000\n",
      "   macro avg       0.71      0.71      0.71      1000\n",
      "weighted avg       0.71      0.71      0.71      1000\n",
      "\n"
     ]
    }
   ],
   "source": [
    "score = accuracy_score(y_test, TFIDF_NB_prediction)\n",
    "print(score)\n",
    "print(cr(y_test, TFIDF_NB_prediction))"
   ]
  }
 ],
 "metadata": {
  "kernelspec": {
   "display_name": "Python 3 (ipykernel)",
   "language": "python",
   "name": "python3"
  },
  "language_info": {
   "codemirror_mode": {
    "name": "ipython",
    "version": 3
   },
   "file_extension": ".py",
   "mimetype": "text/x-python",
   "name": "python",
   "nbconvert_exporter": "python",
   "pygments_lexer": "ipython3",
   "version": "3.9.16"
  }
 },
 "nbformat": 4,
 "nbformat_minor": 5
}

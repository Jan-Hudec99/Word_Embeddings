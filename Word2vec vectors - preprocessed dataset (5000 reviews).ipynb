{
 "cells": [
  {
   "cell_type": "code",
   "execution_count": 3,
   "id": "7e4471ec",
   "metadata": {},
   "outputs": [],
   "source": [
    "from sklearn.manifold import TSNE\n",
    "import matplotlib.pyplot as plt\n",
    "import pandas as pd\n",
    "import numpy as np\n",
    "import gensim\n",
    "from wordcloud import WordCloud\n",
    "import warnings\n",
    "from gensim.models import Word2Vec\n",
    "from sklearn.model_selection import train_test_split\n",
    "from sklearn.naive_bayes import GaussianNB\n",
    "from sklearn.metrics import accuracy_score, classification_report as cr\n",
    "\n",
    "warnings.simplefilter(action = 'ignore', category = FutureWarning)"
   ]
  },
  {
   "cell_type": "code",
   "execution_count": 4,
   "id": "4a429699",
   "metadata": {
    "scrolled": true
   },
   "outputs": [],
   "source": [
    "dataset = pd.read_csv(\"IMDB_dataset_preprocessed.csv\")\n",
    "dataset.drop(dataset.tail(45000).index, inplace = True)\n",
    "reviews = [w for w in dataset[\"review\"]]\n",
    "tokenized_words = [gensim.utils.simple_preprocess(w) for w in reviews]\n",
    "#tokenized_words"
   ]
  },
  {
   "cell_type": "code",
   "execution_count": 6,
   "id": "78689c8c",
   "metadata": {},
   "outputs": [],
   "source": [
    "# CBOW\n",
    "CBOW = gensim.models.Word2Vec(tokenized_words, min_count = 1,\n",
    "                              vector_size = 100, window = 5)"
   ]
  },
  {
   "cell_type": "code",
   "execution_count": 7,
   "id": "2505f498",
   "metadata": {},
   "outputs": [],
   "source": [
    "# Skip Gram\n",
    "Skip_Gram = gensim.models.Word2Vec(tokenized_words, min_count = 1,\n",
    "                                   vector_size = 100, window = 5, sg = 1)"
   ]
  },
  {
   "cell_type": "code",
   "execution_count": 8,
   "id": "4ce3d922",
   "metadata": {},
   "outputs": [
    {
     "name": "stdout",
     "output_type": "stream",
     "text": [
      "[('film', 0.953262984752655), ('review', 0.924589216709137), ('thing', 0.9188513159751892), ('flick', 0.9138855338096619), ('rating', 0.9136313796043396), ('comment', 0.9134317636489868), ('sequel', 0.9106666445732117), ('got', 0.9071416258811951), ('anthology', 0.9058238863945007), ('worth', 0.9055840373039246)]\n"
     ]
    }
   ],
   "source": [
    "# 10 most similar words to \"movie\" - CBOW\n",
    "print(CBOW.wv.most_similar('movie'))"
   ]
  },
  {
   "cell_type": "code",
   "execution_count": 9,
   "id": "cba27f0c",
   "metadata": {},
   "outputs": [
    {
     "name": "stdout",
     "output_type": "stream",
     "text": [
      "[('mistake', 0.8579109907150269), ('purely', 0.8576699495315552), ('amazed', 0.8572682738304138), ('personally', 0.8566331267356873), ('recommendation', 0.8559541702270508), ('film', 0.8543137907981873), ('honestly', 0.853327214717865), ('mst', 0.8522560596466064), ('alright', 0.8513338565826416), ('disagree', 0.8507727384567261)]\n"
     ]
    }
   ],
   "source": [
    "# 10 most similar words to \"movie\" - Skip-Gram\n",
    "print(Skip_Gram.wv.most_similar('movie'))"
   ]
  },
  {
   "cell_type": "code",
   "execution_count": 10,
   "id": "cd622927",
   "metadata": {},
   "outputs": [
    {
     "name": "stdout",
     "output_type": "stream",
     "text": [
      "Similarity between the words 'film' and 'movie' - Word2vec CBOW :  0.953263\n"
     ]
    }
   ],
   "source": [
    "print(\"Similarity between the words 'film' \" +\n",
    "\"and 'movie' - Word2vec CBOW : \",\n",
    "CBOW.wv.similarity('film', 'movie'))"
   ]
  },
  {
   "cell_type": "code",
   "execution_count": 11,
   "id": "7ce6a673",
   "metadata": {},
   "outputs": [
    {
     "name": "stdout",
     "output_type": "stream",
     "text": [
      "Similarity between the words 'film' and 'movie' - Word2vec Skip Gram :  0.854314\n"
     ]
    }
   ],
   "source": [
    "print(\"Similarity between the words 'film' \" +\n",
    "\"and 'movie' - Word2vec Skip Gram : \",\n",
    "Skip_Gram.wv.similarity('film', 'movie'))"
   ]
  },
  {
   "cell_type": "code",
   "execution_count": 12,
   "id": "4c8abe98",
   "metadata": {},
   "outputs": [
    {
     "data": {
      "text/plain": [
       "array([-0.32149813,  0.6730436 , -0.0952595 ,  0.3305653 , -0.11096162,\n",
       "       -0.8161665 ,  0.7047117 ,  1.5585114 , -0.603114  , -0.622219  ,\n",
       "       -0.09589836, -1.2515024 , -0.22620127,  0.6614327 ,  0.25625145,\n",
       "       -0.52662617,  0.26857078, -0.64847475,  0.00819505, -1.3566473 ,\n",
       "        0.625568  ,  0.32699186,  0.5502536 , -0.10545659,  0.2463927 ,\n",
       "       -0.14966641, -0.66495585, -0.46239883, -0.9363318 ,  0.1468916 ,\n",
       "        0.65841395,  0.15158571,  0.1971647 , -0.88699067, -0.02629106,\n",
       "        0.6676348 ,  0.44273043, -0.5716291 , -0.11345545, -1.4091316 ,\n",
       "       -0.02346383, -0.80606544, -0.7321966 ,  0.13695902,  0.46085045,\n",
       "       -0.42329738, -0.5684452 ,  0.05752327,  0.39920345,  0.6927568 ,\n",
       "        0.20132928, -0.78320134, -0.20789401, -0.05611743,  0.02550365,\n",
       "        0.4533663 ,  0.50805825, -0.4184523 , -0.5165399 ,  0.43531144,\n",
       "        0.35603833,  0.03096847, -0.07558431, -0.3776597 , -0.813981  ,\n",
       "        0.8307717 ,  0.11774749,  1.0019668 , -0.90430593,  1.0643694 ,\n",
       "       -0.09078994,  0.55159205,  0.88268983, -0.23754841,  0.70129436,\n",
       "        0.39051348,  0.01617158, -0.28205273, -0.39956325, -0.21834736,\n",
       "       -0.30790827, -0.19166279, -0.40808526,  0.6545249 , -0.0969457 ,\n",
       "       -0.27177906,  0.36902386,  0.37254468,  0.841613  ,  0.45501742,\n",
       "        0.92810273,  0.34933624,  0.3578901 ,  0.16776463,  1.3037081 ,\n",
       "        0.7232092 ,  0.20830187, -0.6372829 ,  0.04903072,  0.09655028],\n",
       "      dtype=float32)"
      ]
     },
     "execution_count": 12,
     "metadata": {},
     "output_type": "execute_result"
    }
   ],
   "source": [
    "# word vector for \"word\"\n",
    "CBOW.wv[\"word\"]"
   ]
  },
  {
   "cell_type": "code",
   "execution_count": 13,
   "id": "46b652ed",
   "metadata": {},
   "outputs": [],
   "source": [
    "#vocab = list(CBOW.wv.key_to_index)\n",
    "#X = CBOW.wv[vocab]\n",
    "\n",
    "#tsne = TSNE(n_components = 2)\n",
    "#X_tsne = tsne.fit_transform(X)\n",
    "\n",
    "#df = pd.DataFrame(X_tsne, index = vocab, columns = ['x', 'y'])\n",
    "\n",
    "#fig = plt.figure()\n",
    "#ax = fig.add_subplot(1, 1, 1)\n",
    "\n",
    "#ax.scatter(df['x'], df['y'])\n",
    "\n",
    "#for word, pos in df.iterrows():\n",
    "#    ax.annotate(word, pos)"
   ]
  },
  {
   "cell_type": "code",
   "execution_count": 14,
   "id": "76930ea9",
   "metadata": {},
   "outputs": [],
   "source": [
    "def display_closestwords_tsnescatterplot(model, modelName, word, size):\n",
    "    \n",
    "    arr = np.empty((0, size), dtype = 'f')\n",
    "    word_labels = [word]\n",
    "\n",
    "    close_words = model.similar_by_word(word)\n",
    "    \n",
    "    arr = np.append(arr, np.array([model[word]]), axis = 0)\n",
    "    for wrd_score in close_words:\n",
    "        wrd_vector = model[wrd_score[0]]\n",
    "        word_labels.append(wrd_score[0])\n",
    "        arr = np.append(arr, np.array([wrd_vector]), axis = 0)\n",
    "        \n",
    "        tsne = TSNE(n_components = 2, random_state = 0)\n",
    "        np.set_printoptions(suppress = True)\n",
    "        Y = tsne.fit_transform(arr)\n",
    "    \n",
    "    x_coords = Y[:, 0]\n",
    "    y_coords = Y[:, 1]\n",
    "    plt.scatter(x_coords, y_coords)\n",
    "    \n",
    "    for label, x, y in zip(word_labels, x_coords, y_coords):\n",
    "        plt.annotate(label, xy = (x, y), xytext = (0, 0), textcoords = 'offset points')\n",
    "    plt.xlim(x_coords.min() + 0.00005, x_coords.max() + 0.00005)\n",
    "    plt.ylim(y_coords.min() + 0.00005, y_coords.max() + 0.00005)\n",
    "    plt.title(\"Top 10 closest words to 'movie' - Word2vec \" + modelName, pad = 20)\n",
    "    plt.show()"
   ]
  },
  {
   "cell_type": "code",
   "execution_count": 15,
   "id": "e585a993",
   "metadata": {
    "scrolled": false
   },
   "outputs": [
    {
     "data": {
      "image/png": "[encoded data removed]",
      "text/plain": [
       "<Figure size 640x480 with 1 Axes>"
      ]
     },
     "metadata": {},
     "output_type": "display_data"
    }
   ],
   "source": [
    "display_closestwords_tsnescatterplot(CBOW.wv, 'CBOW', 'movie', 100)"
   ]
  },
  {
   "cell_type": "code",
   "execution_count": 16,
   "id": "f27ad68f",
   "metadata": {},
   "outputs": [
    {
     "data": {
      "image/png": "[encoded data removed]",
      "text/plain": [
       "<Figure size 640x480 with 1 Axes>"
      ]
     },
     "metadata": {},
     "output_type": "display_data"
    }
   ],
   "source": [
    "display_closestwords_tsnescatterplot(Skip_Gram.wv, 'Skip-Gram', 'movie', 100)"
   ]
  },
  {
   "cell_type": "code",
   "execution_count": 17,
   "id": "4d32ff27",
   "metadata": {},
   "outputs": [],
   "source": [
    "# CBOW\n",
    "def getReviewVector(doc):\n",
    "    return np.mean([CBOW.wv[word] for word in doc if word in CBOW.wv.index_to_key], axis = 0)"
   ]
  },
  {
   "cell_type": "code",
   "execution_count": 18,
   "id": "1562c947",
   "metadata": {},
   "outputs": [],
   "source": [
    "x = []\n",
    "for i in range(len(tokenized_words)):\n",
    "    x.append(getReviewVector(tokenized_words[i]))"
   ]
  },
  {
   "cell_type": "code",
   "execution_count": 19,
   "id": "a754d48d",
   "metadata": {},
   "outputs": [
    {
     "data": {
      "text/plain": [
       "array([1, 1, 1, ..., 1, 0, 0], dtype=uint8)"
      ]
     },
     "execution_count": 19,
     "metadata": {},
     "output_type": "execute_result"
    }
   ],
   "source": [
    "y = pd.get_dummies(dataset[\"sentiment\"])\n",
    "y = y.iloc[:,1].values"
   ]
  },
  {
   "cell_type": "code",
   "execution_count": 20,
   "id": "ef434b2e",
   "metadata": {},
   "outputs": [],
   "source": [
    "X_train, X_test, y_train, y_test = train_test_split(x, y, test_size = 0.2, random_state = 0)"
   ]
  },
  {
   "cell_type": "code",
   "execution_count": 21,
   "id": "7b1cb216",
   "metadata": {},
   "outputs": [],
   "source": [
    "CBOW_NB = GaussianNB().fit(X_train, y_train)"
   ]
  },
  {
   "cell_type": "code",
   "execution_count": 22,
   "id": "c6f81d9e",
   "metadata": {},
   "outputs": [],
   "source": [
    "CBOW_NB_prediction = CBOW_NB.predict(X_test)"
   ]
  },
  {
   "cell_type": "code",
   "execution_count": 23,
   "id": "342e9464",
   "metadata": {},
   "outputs": [
    {
     "name": "stdout",
     "output_type": "stream",
     "text": [
      "0.584\n",
      "              precision    recall  f1-score   support\n",
      "\n",
      "           0       0.62      0.53      0.57       525\n",
      "           1       0.55      0.65      0.60       475\n",
      "\n",
      "    accuracy                           0.58      1000\n",
      "   macro avg       0.59      0.59      0.58      1000\n",
      "weighted avg       0.59      0.58      0.58      1000\n",
      "\n"
     ]
    }
   ],
   "source": [
    "score = accuracy_score(y_test, CBOW_NB_prediction)\n",
    "print(score)\n",
    "print(cr(y_test, CBOW_NB_prediction))"
   ]
  },
  {
   "cell_type": "code",
   "execution_count": 24,
   "id": "58dc8576",
   "metadata": {},
   "outputs": [],
   "source": [
    "# Skip-Gram\n",
    "def getReviewVector(doc):\n",
    "    return np.mean([Skip_Gram.wv[word] for word in doc if word in Skip_Gram.wv.index_to_key], axis = 0)"
   ]
  },
  {
   "cell_type": "code",
   "execution_count": 25,
   "id": "cbd71b6e",
   "metadata": {},
   "outputs": [],
   "source": [
    "x = []\n",
    "for i in range(len(tokenized_words)):\n",
    "    x.append(getReviewVector(tokenized_words[i]))"
   ]
  },
  {
   "cell_type": "code",
   "execution_count": 26,
   "id": "c7a265d8",
   "metadata": {},
   "outputs": [],
   "source": [
    "X_train, X_test, y_train, y_test = train_test_split(x, y, test_size = 0.2, random_state = 0)"
   ]
  },
  {
   "cell_type": "code",
   "execution_count": 27,
   "id": "6a1a8661",
   "metadata": {},
   "outputs": [],
   "source": [
    "Skip_Gram_NB = GaussianNB().fit(X_train, y_train)"
   ]
  },
  {
   "cell_type": "code",
   "execution_count": 28,
   "id": "a4cea5d2",
   "metadata": {},
   "outputs": [],
   "source": [
    "Skip_Gram_NB_prediction = Skip_Gram_NB.predict(X_test)"
   ]
  },
  {
   "cell_type": "code",
   "execution_count": 29,
   "id": "8a69bbde",
   "metadata": {},
   "outputs": [
    {
     "name": "stdout",
     "output_type": "stream",
     "text": [
      "0.715\n",
      "              precision    recall  f1-score   support\n",
      "\n",
      "           0       0.75      0.68      0.71       525\n",
      "           1       0.68      0.76      0.72       475\n",
      "\n",
      "    accuracy                           0.71      1000\n",
      "   macro avg       0.72      0.72      0.71      1000\n",
      "weighted avg       0.72      0.71      0.71      1000\n",
      "\n"
     ]
    }
   ],
   "source": [
    "score = accuracy_score(y_test, Skip_Gram_NB_prediction)\n",
    "print(score)\n",
    "print(cr(y_test, Skip_Gram_NB_prediction))"
   ]
  }
 ],
 "metadata": {
  "kernelspec": {
   "display_name": "Python 3 (ipykernel)",
   "language": "python",
   "name": "python3"
  },
  "language_info": {
   "codemirror_mode": {
    "name": "ipython",
    "version": 3
   },
   "file_extension": ".py",
   "mimetype": "text/x-python",
   "name": "python",
   "nbconvert_exporter": "python",
   "pygments_lexer": "ipython3",
   "version": "3.9.16"
  }
 },
 "nbformat": 4,
 "nbformat_minor": 5
}

{
 "cells": [
  {
   "cell_type": "code",
   "execution_count": 4,
   "id": "7e4471ec",
   "metadata": {},
   "outputs": [],
   "source": [
    "from sklearn.manifold import TSNE\n",
    "import matplotlib.pyplot as plt\n",
    "import pandas as pd\n",
    "import numpy as np\n",
    "import gensim\n",
    "from wordcloud import WordCloud\n",
    "import warnings\n",
    "from gensim.models import Word2Vec\n",
    "from sklearn.model_selection import train_test_split\n",
    "from sklearn.naive_bayes import GaussianNB\n",
    "from sklearn.metrics import accuracy_score, classification_report as cr\n",
    "\n",
    "warnings.simplefilter(action = 'ignore', category = FutureWarning)"
   ]
  },
  {
   "cell_type": "code",
   "execution_count": 5,
   "id": "4a429699",
   "metadata": {
    "scrolled": true
   },
   "outputs": [],
   "source": [
    "dataset = pd.read_csv(\"IMDB Dataset.csv\")\n",
    "#dataset.drop(dataset.tail(44930).index, inplace = True) - will reduce the 50000 review dataset to 5070 reviews\n",
    "reviews = [w for w in dataset[\"review\"]]\n",
    "tokenized_words = [gensim.utils.simple_preprocess(w) for w in reviews]\n",
    "#tokenized_words"
   ]
  },
  {
   "cell_type": "code",
   "execution_count": 6,
   "id": "ebdb4ff8",
   "metadata": {},
   "outputs": [],
   "source": [
    "#wordcloud = WordCloud(width = 500, height = 500).generate(dataset[\"review\"])\n",
    "#plt.figure(figsize = (12, 8), facecolor = 'k')\n",
    "#plt.imshow(wordcloud)\n",
    "#plt.show()"
   ]
  },
  {
   "cell_type": "code",
   "execution_count": 7,
   "id": "78689c8c",
   "metadata": {},
   "outputs": [],
   "source": [
    "# CBOW\n",
    "CBOW = gensim.models.Word2Vec(tokenized_words, min_count = 1,\n",
    "                              vector_size = 100, window = 5)"
   ]
  },
  {
   "cell_type": "code",
   "execution_count": 8,
   "id": "2505f498",
   "metadata": {},
   "outputs": [],
   "source": [
    "# Skip Gram\n",
    "Skip_Gram = gensim.models.Word2Vec(tokenized_words, min_count = 1,\n",
    "                                   vector_size = 100, window = 5, sg = 1)"
   ]
  },
  {
   "cell_type": "code",
   "execution_count": 9,
   "id": "4ce3d922",
   "metadata": {},
   "outputs": [
    {
     "name": "stdout",
     "output_type": "stream",
     "text": [
      "[('film', 0.9303526282310486), ('flick', 0.74705970287323), ('it', 0.6988739371299744), ('show', 0.6479271650314331), ('sequel', 0.621499240398407), ('movies', 0.6167551875114441), ('documentary', 0.605934202671051), ('episode', 0.5937536954879761), ('picture', 0.5883586406707764), ('series', 0.5730072259902954)]\n"
     ]
    }
   ],
   "source": [
    "print(CBOW.wv.most_similar('movie'))"
   ]
  },
  {
   "cell_type": "code",
   "execution_count": 10,
   "id": "cba27f0c",
   "metadata": {},
   "outputs": [
    {
     "name": "stdout",
     "output_type": "stream",
     "text": [
      "[('film', 0.9291965365409851), ('flick', 0.8323894739151001), ('sequal', 0.807877779006958), ('it', 0.8065990209579468), ('noroi', 0.7951966524124146), ('elektra', 0.7940001487731934), ('crapfest', 0.7921146750450134), ('doco', 0.788210928440094), ('snoozer', 0.7865471839904785), ('atleast', 0.7861261367797852)]\n"
     ]
    }
   ],
   "source": [
    "print(Skip_Gram.wv.most_similar('movie'))"
   ]
  },
  {
   "cell_type": "code",
   "execution_count": 11,
   "id": "cd622927",
   "metadata": {},
   "outputs": [
    {
     "name": "stdout",
     "output_type": "stream",
     "text": [
      "Similarity between the words 'film' and 'movie' - Word2vec CBOW :  0.93035275\n"
     ]
    }
   ],
   "source": [
    "print(\"Similarity between the words 'film' \" +\n",
    "\"and 'movie' - Word2vec CBOW : \",\n",
    "CBOW.wv.similarity('film', 'movie'))"
   ]
  },
  {
   "cell_type": "code",
   "execution_count": 12,
   "id": "7ce6a673",
   "metadata": {},
   "outputs": [
    {
     "name": "stdout",
     "output_type": "stream",
     "text": [
      "Similarity between the words 'film' and 'movie' - Word2vec Skip Gram :  0.9291965\n"
     ]
    }
   ],
   "source": [
    "print(\"Similarity between the words 'film' \" +\n",
    "\"and 'movie' - Word2vec Skip Gram : \",\n",
    "Skip_Gram.wv.similarity('film', 'movie'))"
   ]
  },
  {
   "cell_type": "code",
   "execution_count": 13,
   "id": "4c8abe98",
   "metadata": {},
   "outputs": [
    {
     "data": {
      "text/plain": [
       "array([ 1.7159266 , -1.1421722 , -0.7119331 , -1.6719995 , -2.66326   ,\n",
       "       -0.63419473,  0.5334265 ,  2.000339  ,  0.8996055 , -0.25845808,\n",
       "       -1.0332469 , -0.6850933 ,  1.1888944 , -0.72614723,  0.15141408,\n",
       "       -0.17149262, -2.253898  ,  0.87648195,  1.1192538 ,  1.1473874 ,\n",
       "       -0.02802755,  0.7930738 , -0.6090588 ,  3.3655593 , -1.0116022 ,\n",
       "       -4.4357643 , -1.001744  , -2.3854086 , -0.7117798 , -0.8874235 ,\n",
       "       -0.58026433,  1.8396884 , -1.5676533 , -1.7071825 , -1.1839861 ,\n",
       "        1.4686437 , -0.09276101, -0.53003645, -0.04563599, -0.77646244,\n",
       "        1.9618874 , -0.7714726 ,  1.3706942 ,  1.5979377 , -0.23905003,\n",
       "       -0.0484894 , -1.2672554 , -0.45410874, -1.3956261 ,  1.4703884 ,\n",
       "        2.2424934 ,  0.03305174, -0.15195139,  0.18914866,  1.5239503 ,\n",
       "       -0.4280838 , -0.48853734, -0.03445521, -0.82586014, -0.6144493 ,\n",
       "       -0.21910878, -0.15615071, -1.3043115 ,  0.22419457,  1.8750609 ,\n",
       "        0.73769283, -3.0752919 ,  1.124145  , -0.21050179, -3.2315342 ,\n",
       "        0.3867412 ,  1.7201265 , -0.16128923,  1.4210685 , -1.471224  ,\n",
       "       -1.32047   ,  0.18393826,  1.1902187 ,  1.7397032 ,  0.5744202 ,\n",
       "        0.7662814 ,  1.1944243 , -0.64293903,  0.5044687 , -1.4208875 ,\n",
       "       -2.7192779 , -1.5974618 , -0.6557927 , -1.574737  , -0.370542  ,\n",
       "       -0.45581225,  0.28264326,  1.5902017 ,  1.9565431 , -1.0510892 ,\n",
       "       -1.6633654 ,  1.5445487 , -0.8244044 ,  1.7077706 , -0.42718783],\n",
       "      dtype=float32)"
      ]
     },
     "execution_count": 13,
     "metadata": {},
     "output_type": "execute_result"
    }
   ],
   "source": [
    "CBOW.wv[\"word\"]"
   ]
  },
  {
   "cell_type": "code",
   "execution_count": 14,
   "id": "46b652ed",
   "metadata": {},
   "outputs": [],
   "source": [
    "#vocab = list(CBOW.wv.key_to_index)\n",
    "#X = CBOW.wv[vocab]\n",
    "\n",
    "#tsne = TSNE(n_components = 2)\n",
    "#X_tsne = tsne.fit_transform(X)\n",
    "\n",
    "#df = pd.DataFrame(X_tsne, index = vocab, columns = ['x', 'y'])\n",
    "\n",
    "#fig = plt.figure()\n",
    "#ax = fig.add_subplot(1, 1, 1)\n",
    "\n",
    "#ax.scatter(df['x'], df['y'])\n",
    "\n",
    "#for word, pos in df.iterrows():\n",
    "#    ax.annotate(word, pos)"
   ]
  },
  {
   "cell_type": "code",
   "execution_count": 15,
   "id": "76930ea9",
   "metadata": {},
   "outputs": [],
   "source": [
    "def display_closestwords_tsnescatterplot(model, modelName, word, size):\n",
    "    \n",
    "    arr = np.empty((0, size), dtype = 'f')\n",
    "    word_labels = [word]\n",
    "\n",
    "    close_words = model.similar_by_word(word)\n",
    "    \n",
    "    arr = np.append(arr, np.array([model[word]]), axis = 0)\n",
    "    for wrd_score in close_words:\n",
    "        wrd_vector = model[wrd_score[0]]\n",
    "        word_labels.append(wrd_score[0])\n",
    "        arr = np.append(arr, np.array([wrd_vector]), axis = 0)\n",
    "        \n",
    "        tsne = TSNE(n_components = 2, random_state = 0)\n",
    "        np.set_printoptions(suppress = True)\n",
    "        Y = tsne.fit_transform(arr)\n",
    "    \n",
    "    x_coords = Y[:, 0]\n",
    "    y_coords = Y[:, 1]\n",
    "    plt.scatter(x_coords, y_coords)\n",
    "    \n",
    "    for label, x, y in zip(word_labels, x_coords, y_coords):\n",
    "        plt.annotate(label, xy = (x, y), xytext = (0, 0), textcoords = 'offset points')\n",
    "    plt.xlim(x_coords.min() + 0.00005, x_coords.max() + 0.00005)\n",
    "    plt.ylim(y_coords.min() + 0.00005, y_coords.max() + 0.00005)\n",
    "    plt.title(\"Top 10 closest words to 'movie' - Word2vec \" + modelName, pad = 20)\n",
    "    plt.show()"
   ]
  },
  {
   "cell_type": "code",
   "execution_count": 16,
   "id": "e585a993",
   "metadata": {
    "scrolled": false
   },
   "outputs": [
    {
     "data": {
      "image/png": "[encoded data removed]",
      "text/plain": [
       "<Figure size 640x480 with 1 Axes>"
      ]
     },
     "metadata": {},
     "output_type": "display_data"
    }
   ],
   "source": [
    "display_closestwords_tsnescatterplot(CBOW.wv, 'CBOW', 'movie', 100)"
   ]
  },
  {
   "cell_type": "code",
   "execution_count": 17,
   "id": "f27ad68f",
   "metadata": {},
   "outputs": [
    {
     "data": {
      "image/png": "[encoded data removed]",
      "text/plain": [
       "<Figure size 640x480 with 1 Axes>"
      ]
     },
     "metadata": {},
     "output_type": "display_data"
    }
   ],
   "source": [
    "display_closestwords_tsnescatterplot(Skip_Gram.wv, 'Skip-Gram', 'movie', 100)"
   ]
  },
  {
   "cell_type": "code",
   "execution_count": 18,
   "id": "4d32ff27",
   "metadata": {},
   "outputs": [],
   "source": [
    "# CBOW\n",
    "def getReviewVector(doc):\n",
    "    return np.mean([CBOW.wv[word] for word in doc if word in CBOW.wv.index_to_key], axis = 0)"
   ]
  },
  {
   "cell_type": "code",
   "execution_count": 19,
   "id": "1562c947",
   "metadata": {},
   "outputs": [],
   "source": [
    "x = []\n",
    "for i in range(len(tokenized_words)):\n",
    "    x.append(getReviewVector(tokenized_words[i]))"
   ]
  },
  {
   "cell_type": "code",
   "execution_count": 20,
   "id": "a754d48d",
   "metadata": {},
   "outputs": [
    {
     "data": {
      "text/plain": [
       "array([1, 1, 1, ..., 0, 0, 0], dtype=uint8)"
      ]
     },
     "execution_count": 20,
     "metadata": {},
     "output_type": "execute_result"
    }
   ],
   "source": [
    "y = pd.get_dummies(dataset[\"sentiment\"])\n",
    "y = y.iloc[:,1].values\n",
    "y"
   ]
  },
  {
   "cell_type": "code",
   "execution_count": 21,
   "id": "ef434b2e",
   "metadata": {},
   "outputs": [],
   "source": [
    "X_train, X_test, y_train, y_test = train_test_split(x, y, test_size = 0.2, random_state = 0)"
   ]
  },
  {
   "cell_type": "code",
   "execution_count": 22,
   "id": "7b1cb216",
   "metadata": {},
   "outputs": [],
   "source": [
    "CBOW_NB = GaussianNB().fit(X_train, y_train)"
   ]
  },
  {
   "cell_type": "code",
   "execution_count": 23,
   "id": "c6f81d9e",
   "metadata": {},
   "outputs": [],
   "source": [
    "CBOW_NB_prediction = CBOW_NB.predict(X_test)"
   ]
  },
  {
   "cell_type": "code",
   "execution_count": 24,
   "id": "342e9464",
   "metadata": {},
   "outputs": [
    {
     "name": "stdout",
     "output_type": "stream",
     "text": [
      "0.6966\n",
      "              precision    recall  f1-score   support\n",
      "\n",
      "           0       0.69      0.73      0.71      5035\n",
      "           1       0.71      0.67      0.69      4965\n",
      "\n",
      "    accuracy                           0.70     10000\n",
      "   macro avg       0.70      0.70      0.70     10000\n",
      "weighted avg       0.70      0.70      0.70     10000\n",
      "\n"
     ]
    }
   ],
   "source": [
    "score = accuracy_score(y_test, CBOW_NB_prediction)\n",
    "print(score)\n",
    "print(cr(y_test, CBOW_NB_prediction))"
   ]
  },
  {
   "cell_type": "code",
   "execution_count": 25,
   "id": "58dc8576",
   "metadata": {},
   "outputs": [],
   "source": [
    "# Skip-Gram\n",
    "def getReviewVector(doc):\n",
    "    return np.mean([Skip_Gram.wv[word] for word in doc if word in Skip_Gram.wv.index_to_key], axis = 0)"
   ]
  },
  {
   "cell_type": "code",
   "execution_count": null,
   "id": "cbd71b6e",
   "metadata": {},
   "outputs": [],
   "source": [
    "x = []\n",
    "for i in range(len(tokenized_words)):\n",
    "    x.append(getReviewVector(tokenized_words[i]))"
   ]
  },
  {
   "cell_type": "code",
   "execution_count": null,
   "id": "c7a265d8",
   "metadata": {},
   "outputs": [],
   "source": [
    "X_train, X_test, y_train, y_test = train_test_split(x, y, test_size = 0.2, random_state = 0)"
   ]
  },
  {
   "cell_type": "code",
   "execution_count": null,
   "id": "6a1a8661",
   "metadata": {},
   "outputs": [],
   "source": [
    "Skip_Gram_NB = GaussianNB().fit(X_train, y_train)"
   ]
  },
  {
   "cell_type": "code",
   "execution_count": null,
   "id": "a4cea5d2",
   "metadata": {},
   "outputs": [],
   "source": [
    "Skip_Gram_NB_prediction = Skip_Gram_NB.predict(X_test)"
   ]
  },
  {
   "cell_type": "code",
   "execution_count": null,
   "id": "8a69bbde",
   "metadata": {},
   "outputs": [],
   "source": [
    "score = accuracy_score(y_test, Skip_Gram_NB_prediction)\n",
    "print(score)\n",
    "print(cr(y_test, Skip_Gram_NB_prediction))"
   ]
  }
 ],
 "metadata": {
  "kernelspec": {
   "display_name": "Python 3 (ipykernel)",
   "language": "python",
   "name": "python3"
  },
  "language_info": {
   "codemirror_mode": {
    "name": "ipython",
    "version": 3
   },
   "file_extension": ".py",
   "mimetype": "text/x-python",
   "name": "python",
   "nbconvert_exporter": "python",
   "pygments_lexer": "ipython3",
   "version": "3.9.16"
  }
 },
 "nbformat": 4,
 "nbformat_minor": 5
}
